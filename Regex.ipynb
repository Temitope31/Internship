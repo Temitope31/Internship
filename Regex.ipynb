{
 "cells": [
  {
   "cell_type": "code",
   "execution_count": 19,
   "id": "225abbd6",
   "metadata": {},
   "outputs": [],
   "source": [
    "import regex as re\n",
    "import numpy as np\n",
    "import pandas as pd"
   ]
  },
  {
   "cell_type": "markdown",
   "id": "25c7df37",
   "metadata": {},
   "source": [
    "Question 1"
   ]
  },
  {
   "cell_type": "code",
   "execution_count": 5,
   "id": "5072e71e",
   "metadata": {},
   "outputs": [
    {
     "name": "stdout",
     "output_type": "stream",
     "text": [
      "Python:Exercises::PHP:exercises:\n"
     ]
    }
   ],
   "source": [
    "Text='Python Exercises, PHP exercises.'\n",
    "pattern='\\s|,|\\.'\n",
    "x=re.sub(pattern,':',Text)\n",
    "print(x)"
   ]
  },
  {
   "cell_type": "markdown",
   "id": "104bf5a3",
   "metadata": {},
   "source": [
    "Question 2"
   ]
  },
  {
   "cell_type": "code",
   "execution_count": 12,
   "id": "b1ca2897",
   "metadata": {},
   "outputs": [
    {
     "name": "stdout",
     "output_type": "stream",
     "text": [
      "['eyound', 'and', 'above', 'etty', 'egg', 'egdemont', 'avenue']\n"
     ]
    }
   ],
   "source": [
    "string= 'this is beyound and above a petty egg in egdemont avenue'\n",
    "pattern= r'a[\\w]+|e[\\w]+'\n",
    "x=re.findall(pattern, string)\n",
    "print(x)"
   ]
  },
  {
   "cell_type": "markdown",
   "id": "64219846",
   "metadata": {},
   "source": [
    "Question 3"
   ]
  },
  {
   "cell_type": "code",
   "execution_count": 15,
   "id": "a3d1319d",
   "metadata": {},
   "outputs": [
    {
     "name": "stdout",
     "output_type": "stream",
     "text": [
      "this\n",
      "beyo\n",
      "abov\n",
      "pett\n",
      "egde\n",
      "mont\n",
      "aven\n"
     ]
    }
   ],
   "source": [
    "string\n",
    "pattern=re.compile(r'\\w{4}')\n",
    "for x in pattern.finditer(string):\n",
    "    print(x.group())"
   ]
  },
  {
   "cell_type": "markdown",
   "id": "4739f998",
   "metadata": {},
   "source": [
    "Question 4"
   ]
  },
  {
   "cell_type": "code",
   "execution_count": 16,
   "id": "a0dfc759",
   "metadata": {},
   "outputs": [],
   "source": [
    "string\n",
    "pattern=re.compile(r'(\\b\\w{3}\\b).(\\b\\w{4}\\b).(\\b\\w{5}\\b)') #or re.compile('r\\b\\w{3,4,5}\\b')\n",
    "for x in pattern.finditer(string):\n",
    "    print(x)"
   ]
  },
  {
   "cell_type": "markdown",
   "id": "a9c38ec2",
   "metadata": {},
   "source": [
    "Question 5"
   ]
  },
  {
   "cell_type": "code",
   "execution_count": 33,
   "id": "703f4366",
   "metadata": {},
   "outputs": [],
   "source": [
    "x=[]\n",
    "sample=[\"example (.com)\", \"hr@fliprobo (.com)\", \"github (.com)\", \"Hello (Data Science World)\", \"Data (Scientist)\"]\n",
    "for y in sample:\n",
    "    z=re.sub('()','',y)\n",
    "    \n",
    "x.append(z)"
   ]
  },
  {
   "cell_type": "markdown",
   "id": "228de854",
   "metadata": {},
   "source": [
    "Question 6"
   ]
  },
  {
   "cell_type": "code",
   "execution_count": 48,
   "id": "65228482",
   "metadata": {},
   "outputs": [
    {
     "name": "stdout",
     "output_type": "stream",
     "text": [
      "['Importance', 'Of', 'Regular', 'Expressions', 'In', 'Python']\n"
     ]
    }
   ],
   "source": [
    "sample='ImportanceOfRegularExpressionsInPython'\n",
    "x=re.findall(r'[A-Z][^A-Z]*',sample)\n",
    "print(x)"
   ]
  },
  {
   "cell_type": "markdown",
   "id": "5f921de3",
   "metadata": {},
   "source": [
    "Question 7"
   ]
  },
  {
   "cell_type": "code",
   "execution_count": 154,
   "id": "3cdc7520",
   "metadata": {},
   "outputs": [
    {
     "name": "stdout",
     "output_type": "stream",
     "text": [
      "['Importance', 'Of', 'Regular', 'Expressions', 'In', 'Python']\n"
     ]
    }
   ],
   "source": [
    "sample = \"ImportanceOfRegularExpressionsInPython\"\n",
    "pattern = r'[A-Z][a-z]*'\n",
    "matches = re.findall(pattern, sample)\n",
    "print(matches)"
   ]
  },
  {
   "cell_type": "markdown",
   "id": "42c7bf7f",
   "metadata": {},
   "source": [
    "Question 8"
   ]
  },
  {
   "cell_type": "code",
   "execution_count": 159,
   "id": "6f2657d6",
   "metadata": {},
   "outputs": [
    {
     "name": "stdout",
     "output_type": "stream",
     "text": [
      "RegularExpression1 IsAn2 ImportantTopic3 InPython\n"
     ]
    }
   ],
   "source": [
    "sample_text = \"RegularExpression1IsAn2ImportantTopic3InPython\"\n",
    "def space(text):\n",
    "     pattern = re.compile(r'(\\d)([A-Za-z]+)')\n",
    "     new_text = pattern.sub(r'\\1 \\2', text)\n",
    "     return new_text\n",
    "new_text = space(sample_text)\n",
    "print(new_text)"
   ]
  },
  {
   "cell_type": "markdown",
   "id": "f7e303d9",
   "metadata": {},
   "source": [
    "Question 9"
   ]
  },
  {
   "cell_type": "code",
   "execution_count": 73,
   "id": "097a199f",
   "metadata": {},
   "outputs": [
    {
     "name": "stdout",
     "output_type": "stream",
     "text": [
      "RegularExpression 1 IsAn 2 ImportantTopic 3 InPython\n"
     ]
    }
   ],
   "source": [
    "Sample='RegularExpression1IsAn2ImportantTopic3InPython'\n",
    "x=re.sub(r'(\\w)([0-9])',r'\\1 \\2 ',Sample)\n",
    "print(x)"
   ]
  },
  {
   "cell_type": "markdown",
   "id": "5580f294",
   "metadata": {},
   "source": [
    "Question 10"
   ]
  },
  {
   "cell_type": "code",
   "execution_count": 83,
   "id": "b650b280",
   "metadata": {},
   "outputs": [
    {
     "name": "stdout",
     "output_type": "stream",
     "text": [
      "['xyz@domain.com', 'xyz.abc@sdomain.domain.com', 'hr@fliprobo.com']\n"
     ]
    }
   ],
   "source": [
    "sample='Hello my name is Data Science and my email address is xyz@domain.com and alternate email address is xyz.abc@sdomain.domain.com. Please contact us at hr@fliprobo.com for further information' \n",
    "pattern='[a-zA-Z0-9.%+-]+@[a-zA-Z0-9.-]+\\.[a-zA-z]+'\n",
    "email=re.findall(pattern,sample)\n",
    "print(email)\n"
   ]
  },
  {
   "cell_type": "markdown",
   "id": "d1178999",
   "metadata": {},
   "source": [
    "Question 11"
   ]
  },
  {
   "cell_type": "code",
   "execution_count": 88,
   "id": "22026880",
   "metadata": {},
   "outputs": [
    {
     "name": "stdout",
     "output_type": "stream",
     "text": [
      "None\n"
     ]
    }
   ],
   "source": [
    "text='UPPER case lower case 1234_'\n",
    "pattern='^[a-zA-Z0-9_]*$'\n",
    "x=re.search(pattern, text)\n",
    "print(x)"
   ]
  },
  {
   "cell_type": "markdown",
   "id": "ba8f42c5",
   "metadata": {},
   "source": [
    "Question 13"
   ]
  },
  {
   "cell_type": "code",
   "execution_count": 92,
   "id": "69b15559",
   "metadata": {},
   "outputs": [
    {
     "name": "stdout",
     "output_type": "stream",
     "text": [
      "1257.907.23\n"
     ]
    }
   ],
   "source": [
    "string='1257.0907.023'\n",
    "pattern='\\.[0]+'\n",
    "x=re.sub(pattern,'.',string)\n",
    "print(x)"
   ]
  },
  {
   "cell_type": "markdown",
   "id": "a9984909",
   "metadata": {},
   "source": [
    "Question 14"
   ]
  },
  {
   "cell_type": "code",
   "execution_count": 99,
   "id": "40dde6a6",
   "metadata": {},
   "outputs": [
    {
     "name": "stdout",
     "output_type": "stream",
     "text": [
      "August 15th 1947\n"
     ]
    }
   ],
   "source": [
    "Sample='On August 15th 1947 that India was declared independent from British colonialism, and the reins of control were handed over to the leaders of the Country'\n",
    "pattern= r'(\\b[A-Z][a-z]+\\s+\\d{1,2}(?:st|nd|rd|th)?\\s+\\d{4}\\b)'\n",
    "x=re.findall(pattern,Sample)\n",
    "for x1 in x:\n",
    "    print(x1)"
   ]
  },
  {
   "cell_type": "markdown",
   "id": "395cc533",
   "metadata": {},
   "source": [
    "Question 15"
   ]
  },
  {
   "cell_type": "code",
   "execution_count": 102,
   "id": "5d71433c",
   "metadata": {},
   "outputs": [
    {
     "name": "stdout",
     "output_type": "stream",
     "text": [
      "['fox', 'dog']\n"
     ]
    }
   ],
   "source": [
    "Sample='The quick brown fox jumps over the lazy dog.'\n",
    "pattern= r'f[a-z]+x|d[a-z]+g'\n",
    "x=re.findall(pattern,Sample)\n",
    "print(x)"
   ]
  },
  {
   "cell_type": "markdown",
   "id": "de6c5f92",
   "metadata": {},
   "source": [
    "Question 16"
   ]
  },
  {
   "cell_type": "code",
   "execution_count": 106,
   "id": "6dd6fe67",
   "metadata": {
    "scrolled": false
   },
   "outputs": [
    {
     "name": "stdout",
     "output_type": "stream",
     "text": [
      "<regex.Match object; span=(16, 19), match='fox'>\n"
     ]
    }
   ],
   "source": [
    "Sample='The quick brown fox jumps over the lazy dog.'\n",
    "pattern= r'f[a-z]+x'\n",
    "x=re.search(pattern, Sample)\n",
    "print(x)"
   ]
  },
  {
   "cell_type": "markdown",
   "id": "a90c5a50",
   "metadata": {},
   "source": [
    "Question 17"
   ]
  },
  {
   "cell_type": "code",
   "execution_count": 110,
   "id": "86dd8500",
   "metadata": {},
   "outputs": [
    {
     "name": "stdout",
     "output_type": "stream",
     "text": [
      "exercises\n",
      "exercises\n",
      "exercises\n"
     ]
    }
   ],
   "source": [
    "Sample= 'Python exercises, PHP exercises, C# exercises'\n",
    "pattern ='exercises'\n",
    "matches = re.finditer(pattern, Sample)\n",
    "for match in matches:\n",
    "    print(match.group())"
   ]
  },
  {
   "cell_type": "markdown",
   "id": "a642ba67",
   "metadata": {},
   "source": [
    "Question 18"
   ]
  },
  {
   "cell_type": "code",
   "execution_count": 112,
   "id": "32fcd25b",
   "metadata": {},
   "outputs": [
    {
     "name": "stdout",
     "output_type": "stream",
     "text": [
      " 'January'found at index 17.\n",
      " 'January'found at index 69.\n"
     ]
    }
   ],
   "source": [
    "string='I was born on 29 January in the year where the whales touch the sky. January is an holy month and'\n",
    "substring='January'\n",
    "x=re.finditer(substring,string)\n",
    "for match in x:\n",
    "    y=match.start()\n",
    "    print(f\" '{substring}'found at index {y}.\")"
   ]
  },
  {
   "cell_type": "markdown",
   "id": "e7415041",
   "metadata": {},
   "source": [
    "Question 19"
   ]
  },
  {
   "cell_type": "code",
   "execution_count": 114,
   "id": "1ec2b8d6",
   "metadata": {},
   "outputs": [
    {
     "name": "stdout",
     "output_type": "stream",
     "text": [
      "Original date: 2023-10-03\n",
      "new date: 03-10-2023\n"
     ]
    }
   ],
   "source": [
    "from datetime import datetime\n",
    "date_today = \"2023-10-03\"\n",
    "date_frm = datetime.strptime(date_today, \"%Y-%m-%d\")\n",
    "date_new = date_frm.strftime(\"%d-%m-%Y\")\n",
    "print(\"Original date:\", date_today)\n",
    "print(\"new date:\", date_new)"
   ]
  },
  {
   "cell_type": "markdown",
   "id": "6a4092ea",
   "metadata": {},
   "source": [
    "Question 20"
   ]
  },
  {
   "cell_type": "code",
   "execution_count": 115,
   "id": "9cb8afda",
   "metadata": {},
   "outputs": [
    {
     "name": "stdout",
     "output_type": "stream",
     "text": [
      "['01.12', '145.8', '3.01', '27.25', '0.25']\n"
     ]
    }
   ],
   "source": [
    "def decimal(text):\n",
    "    pattern = re.compile(r'\\b\\d+\\.\\d{1,2}\\b')\n",
    "    matches = pattern.findall(text)\n",
    "    return matches\n",
    "\n",
    "sample_text = \"01.12 0132.123 2.31875 145.8 3.01 27.25 0.25\"\n",
    "\n",
    "result = decimal(sample_text)\n",
    "\n",
    "print(result)"
   ]
  },
  {
   "cell_type": "markdown",
   "id": "7d9cf1ee",
   "metadata": {},
   "source": [
    "Question 21"
   ]
  },
  {
   "cell_type": "code",
   "execution_count": 116,
   "id": "5fabf185",
   "metadata": {},
   "outputs": [
    {
     "name": "stdout",
     "output_type": "stream",
     "text": [
      "Number:123,Position:(10,13)\n",
      "Number:456,Position:(25,28)\n"
     ]
    }
   ],
   "source": [
    "def find_number(text):\n",
    "    pattern= r'\\d+'\n",
    "    matches=re.finditer(pattern,text)\n",
    "    for match in matches:\n",
    "        x=match.group()\n",
    "        y=match.start()\n",
    "        z=match.end()\n",
    "        print(f'Number:{x},Position:({y},{z})')\n",
    "new_string='There are 123 apples and 456 bananas in the basket'\n",
    "find_number(new_string)"
   ]
  },
  {
   "cell_type": "markdown",
   "id": "ae6a5604",
   "metadata": {},
   "source": [
    "Question 22"
   ]
  },
  {
   "cell_type": "code",
   "execution_count": 124,
   "id": "7880c0bb",
   "metadata": {},
   "outputs": [
    {
     "name": "stdout",
     "output_type": "stream",
     "text": [
      "The maximum numeric value is: 950\n"
     ]
    }
   ],
   "source": [
    "Sample='My marks in each semester are: 947, 896, 926, 524, 734, 950, 642'\n",
    "pattern=r'\\d{1,3}(?:,\\d{3})*'\n",
    "matches=re.findall(pattern, Sample)\n",
    "if matches:\n",
    "    max_count= max(map(lambda x: int(x.replace(',', '')), matches))\n",
    "    print(f\"The maximum numeric value is: {max_count}\")\n",
    "else:\n",
    "    print('no number')"
   ]
  },
  {
   "cell_type": "markdown",
   "id": "d15167d3",
   "metadata": {},
   "source": [
    "Question 23"
   ]
  },
  {
   "cell_type": "code",
   "execution_count": 127,
   "id": "a6cd2646",
   "metadata": {},
   "outputs": [
    {
     "name": "stdout",
     "output_type": "stream",
     "text": [
      "Regular Expression Is An Important Topic In Python\n"
     ]
    }
   ],
   "source": [
    "sample=\"RegularExpressionIsAnImportantTopicInPython\"\n",
    "outcome=re.sub(r'([a-z])([A-Z])', r'\\1 \\2', sample)\n",
    "print(outcome)\n"
   ]
  },
  {
   "cell_type": "markdown",
   "id": "21503ea6",
   "metadata": {},
   "source": [
    "Question 24"
   ]
  },
  {
   "cell_type": "code",
   "execution_count": 129,
   "id": "8f35368f",
   "metadata": {},
   "outputs": [
    {
     "name": "stdout",
     "output_type": "stream",
     "text": [
      "['This', 'Life', 'Is', 'Not', 'Bed', 'Roses']\n"
     ]
    }
   ],
   "source": [
    "text='This Life Is Not a Bed of Roses'\n",
    "pattern = r'[A-Z][a-z]+'\n",
    "matches = re.findall(pattern, text)\n",
    "print(matches)\n"
   ]
  },
  {
   "cell_type": "markdown",
   "id": "be34d700",
   "metadata": {},
   "source": [
    "Question 25"
   ]
  },
  {
   "cell_type": "code",
   "execution_count": 131,
   "id": "5c703e3b",
   "metadata": {},
   "outputs": [
    {
     "name": "stdout",
     "output_type": "stream",
     "text": [
      "Hello hello world\n"
     ]
    }
   ],
   "source": [
    "sample=\"Hello hello world world\"\n",
    "pattern = r'\\b(\\w+)(\\s+\\1)+\\b'\n",
    "x= re.sub(pattern, r'\\1', sample)\n",
    "print(x)"
   ]
  },
  {
   "cell_type": "markdown",
   "id": "4b6c4bd8",
   "metadata": {},
   "source": [
    "Question 26"
   ]
  },
  {
   "cell_type": "code",
   "execution_count": 132,
   "id": "4f69de63",
   "metadata": {},
   "outputs": [],
   "source": [
    "def alphanumeric_(string):\n",
    "    pattern = r'^.*[a-zA-Z0-9]$'\n",
    "    if re.match(pattern, string):\n",
    "        return True\n",
    "    else:\n",
    "        return False"
   ]
  },
  {
   "cell_type": "markdown",
   "id": "28f68e69",
   "metadata": {},
   "source": [
    "Question 27"
   ]
  },
  {
   "cell_type": "code",
   "execution_count": 133,
   "id": "b8406f89",
   "metadata": {},
   "outputs": [
    {
     "name": "stdout",
     "output_type": "stream",
     "text": [
      "['#Doltiwal', '#xyzabc', '#Demonetization']\n"
     ]
    }
   ],
   "source": [
    "sample=\"\"\"RT @kapil_kausik: #Doltiwal I mean #xyzabc is \"hurt\" by #Demonetization as the same has rendered USELESS <ed><U+00A0><U+00BD><ed><U+00B1><U+0089> \"acquired funds\" No wo\"\"\"\n",
    "def hashtags(text):\n",
    "     pattern = r'#\\w+'\n",
    "     matches = re.findall(pattern, text)\n",
    "     return matches\n",
    "matches = hashtags(sample)\n",
    "print(matches)\n"
   ]
  },
  {
   "cell_type": "markdown",
   "id": "df6adb62",
   "metadata": {},
   "source": [
    "Question 28"
   ]
  },
  {
   "cell_type": "code",
   "execution_count": 134,
   "id": "fb37a31a",
   "metadata": {},
   "outputs": [
    {
     "name": "stdout",
     "output_type": "stream",
     "text": [
      "@Jags123456 Bharat band on 28??<ed><ed>Those who  are protesting #demonetization  are all different party leaders\n"
     ]
    }
   ],
   "source": [
    "sample =\"@Jags123456 Bharat band on 28??<ed><U+00A0><U+00BD><ed><U+00B8><U+0082>Those who  are protesting #demonetization  are all different party leaders\"\n",
    "def remove_symbols(text):\n",
    "    pattern = r'<U\\+[0-9A-Fa-f]+>'\n",
    "    result = re.sub(pattern, '', text)\n",
    "    return result\n",
    "result= remove_symbols(sample)\n",
    "print(result)   "
   ]
  },
  {
   "cell_type": "markdown",
   "id": "a8a129bf",
   "metadata": {},
   "source": [
    "Question 29"
   ]
  },
  {
   "cell_type": "code",
   "execution_count": 148,
   "id": "7a953ddc",
   "metadata": {},
   "outputs": [
    {
     "name": "stdout",
     "output_type": "stream",
     "text": [
      "Dates found in the text:\n",
      "12-09-1992\n",
      "15-12-1999\n"
     ]
    }
   ],
   "source": [
    "sample= \"Ron was born on 12-09-1992 and he was admitted to school 15-12-1999\"\n",
    "def extract_dates_from_text(text):\n",
    "     pattern = r'\\b\\d{2}-\\d{2}-\\d{4}\\b'\n",
    "     dates = re.findall(pattern, text)\n",
    "     return dates\n",
    "try:\n",
    "    filename = 'sample'\n",
    "    dates = extract_dates_from_text(sample)\n",
    "\n",
    "    if dates:\n",
    "        print(\"Dates found in the text:\")\n",
    "        for date in dates:\n",
    "            print(date)\n",
    "    else:\n",
    "        print(\"No dates found in the text.\")\n",
    "except FileNotFoundError:\n",
    "    print(f\"The file '{filename}' was not found.\")\n"
   ]
  },
  {
   "cell_type": "markdown",
   "id": "6c8562e9",
   "metadata": {},
   "source": [
    "Question 30"
   ]
  },
  {
   "cell_type": "code",
   "execution_count": 151,
   "id": "6fd8234d",
   "metadata": {},
   "outputs": [
    {
     "name": "stdout",
     "output_type": "stream",
     "text": [
      " following example creates  ArrayList  a capacity   elements. 4 elements   added   ArrayList   ArrayList  trimmed accordingly.\n"
     ]
    }
   ],
   "source": [
    "sample= \"The following example creates an ArrayList with a capacity of 50 elements. 4 elements are then added to the ArrayList and the ArrayList is trimmed accordingly.\"\n",
    "def remove(sample):\n",
    "     pattern = re.compile(r'\\b\\w{2,4}\\b')\n",
    "     result = pattern.sub('', sample)\n",
    "     return result  \n",
    "x = remove(sample)\n",
    "print(x)"
   ]
  },
  {
   "cell_type": "code",
   "execution_count": null,
   "id": "7f6f4212",
   "metadata": {},
   "outputs": [],
   "source": []
  }
 ],
 "metadata": {
  "kernelspec": {
   "display_name": "Python 3 (ipykernel)",
   "language": "python",
   "name": "python3"
  },
  "language_info": {
   "codemirror_mode": {
    "name": "ipython",
    "version": 3
   },
   "file_extension": ".py",
   "mimetype": "text/x-python",
   "name": "python",
   "nbconvert_exporter": "python",
   "pygments_lexer": "ipython3",
   "version": "3.10.9"
  }
 },
 "nbformat": 4,
 "nbformat_minor": 5
}
