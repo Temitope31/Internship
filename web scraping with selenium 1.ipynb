{
 "cells": [
  {
   "cell_type": "code",
   "execution_count": 227,
   "id": "5c2a5ed6",
   "metadata": {},
   "outputs": [],
   "source": [
    "import selenium\n",
    "from selenium import webdriver\n",
    "import pandas as pd\n",
    "from selenium.webdriver.common.by import By\n",
    "import warnings\n",
    "warnings.filterwarnings('ignore')\n",
    "import time\n",
    "#library needed for scraping and data Frame "
   ]
  },
  {
   "cell_type": "code",
   "execution_count": 30,
   "id": "704d6b84",
   "metadata": {},
   "outputs": [],
   "source": [
    "driver= webdriver.Chrome()"
   ]
  },
  {
   "cell_type": "code",
   "execution_count": 21,
   "id": "ce1cda1e",
   "metadata": {},
   "outputs": [],
   "source": [
    "driver.get('https://www.shine.com/')"
   ]
  },
  {
   "cell_type": "code",
   "execution_count": 23,
   "id": "e32dba7a",
   "metadata": {},
   "outputs": [],
   "source": [
    "designation=driver.find_element(By.XPATH,'/html/body/div/div[4]/div/div[2]/div[2]/div/form/div/div[1]/ul/li[1]/div/input')\n",
    "designation.send_keys('Data Analyst')"
   ]
  },
  {
   "cell_type": "code",
   "execution_count": 24,
   "id": "69e1b1d2",
   "metadata": {},
   "outputs": [],
   "source": [
    "location=driver.find_element(By.XPATH,'/html/body/div/div[4]/div/div[2]/div[2]/div/form/div/div[1]/ul/li[2]/div/input')\n",
    "location.send_keys('Bangalore')"
   ]
  },
  {
   "cell_type": "code",
   "execution_count": 25,
   "id": "4812a240",
   "metadata": {},
   "outputs": [],
   "source": [
    "search=driver.find_element(By.XPATH,'/html/body/div/div[4]/div/div[2]/div[2]/div/form/div/div[2]/div/button')\n",
    "search.click()"
   ]
  },
  {
   "cell_type": "code",
   "execution_count": 7,
   "id": "84f4e9ea",
   "metadata": {},
   "outputs": [],
   "source": [
    "job_title=[]\n",
    "job_location=[]\n",
    "company_name=[]\n",
    "experience_required=[]"
   ]
  },
  {
   "cell_type": "code",
   "execution_count": 10,
   "id": "98ee43a3",
   "metadata": {},
   "outputs": [],
   "source": [
    "title_tags=driver.find_elements(By.XPATH,'//h2[@itemprop=\"name\"]/a')\n",
    "for i in title_tags[:10]:\n",
    "    title=i.text\n",
    "    job_title.append(title)"
   ]
  },
  {
   "cell_type": "code",
   "execution_count": 11,
   "id": "2d1ca1a3",
   "metadata": {},
   "outputs": [
    {
     "data": {
      "text/plain": [
       "10"
      ]
     },
     "execution_count": 11,
     "metadata": {},
     "output_type": "execute_result"
    }
   ],
   "source": [
    "len(job_title)"
   ]
  },
  {
   "cell_type": "code",
   "execution_count": 13,
   "id": "58078b8d",
   "metadata": {},
   "outputs": [],
   "source": [
    "location_tags=driver.find_elements(By.XPATH,'//div[@class=\" jobCard_jobCard_lists_item__YxRkV jobCard_locationIcon__zrWt2\"]')\n",
    "for i in location_tags[:10]:\n",
    "    location=i.text\n",
    "    job_location.append(location)"
   ]
  },
  {
   "cell_type": "code",
   "execution_count": 14,
   "id": "9a1ddd53",
   "metadata": {},
   "outputs": [
    {
     "data": {
      "text/plain": [
       "10"
      ]
     },
     "execution_count": 14,
     "metadata": {},
     "output_type": "execute_result"
    }
   ],
   "source": [
    "len(job_location)"
   ]
  },
  {
   "cell_type": "code",
   "execution_count": 15,
   "id": "378436e7",
   "metadata": {},
   "outputs": [],
   "source": [
    "company_tags=driver.find_elements(By.XPATH,'//div[@class=\"jobCard_jobCard_cName__mYnow\"]/span')\n",
    "for i in company_tags[:10]:\n",
    "    company=i.text\n",
    "    company_name.append(company)"
   ]
  },
  {
   "cell_type": "code",
   "execution_count": 16,
   "id": "26bfa73a",
   "metadata": {},
   "outputs": [
    {
     "data": {
      "text/plain": [
       "10"
      ]
     },
     "execution_count": 16,
     "metadata": {},
     "output_type": "execute_result"
    }
   ],
   "source": [
    "len( company_name)"
   ]
  },
  {
   "cell_type": "code",
   "execution_count": 26,
   "id": "796b57b3",
   "metadata": {},
   "outputs": [],
   "source": [
    "experience_tags=driver.find_elements(By.XPATH,'//div[@class=\" jobCard_jobCard_lists_item__YxRkV jobCard_jobIcon__3FB1t\"]')\n",
    "for i in experience_tags[:10]:\n",
    "    experience=i.text\n",
    "    experience_required.append(experience)"
   ]
  },
  {
   "cell_type": "code",
   "execution_count": 27,
   "id": "f067bd2d",
   "metadata": {},
   "outputs": [
    {
     "data": {
      "text/plain": [
       "10"
      ]
     },
     "execution_count": 27,
     "metadata": {},
     "output_type": "execute_result"
    }
   ],
   "source": [
    "len( experience_required)"
   ]
  },
  {
   "cell_type": "code",
   "execution_count": 28,
   "id": "3cf26388",
   "metadata": {},
   "outputs": [
    {
     "data": {
      "text/html": [
       "<div>\n",
       "<style scoped>\n",
       "    .dataframe tbody tr th:only-of-type {\n",
       "        vertical-align: middle;\n",
       "    }\n",
       "\n",
       "    .dataframe tbody tr th {\n",
       "        vertical-align: top;\n",
       "    }\n",
       "\n",
       "    .dataframe thead th {\n",
       "        text-align: right;\n",
       "    }\n",
       "</style>\n",
       "<table border=\"1\" class=\"dataframe\">\n",
       "  <thead>\n",
       "    <tr style=\"text-align: right;\">\n",
       "      <th></th>\n",
       "      <th>Title</th>\n",
       "      <th>Location</th>\n",
       "      <th>Company</th>\n",
       "      <th>Experience</th>\n",
       "    </tr>\n",
       "  </thead>\n",
       "  <tbody>\n",
       "    <tr>\n",
       "      <th>0</th>\n",
       "      <td>Data Analyst Vacancy</td>\n",
       "      <td>Bangalore\\n+14</td>\n",
       "      <td>divya interprises</td>\n",
       "      <td>0 to 4 Yrs</td>\n",
       "    </tr>\n",
       "    <tr>\n",
       "      <th>1</th>\n",
       "      <td>Data Analyst Vacancy</td>\n",
       "      <td>Bangalore\\n+14</td>\n",
       "      <td>divya interprises</td>\n",
       "      <td>0 to 4 Yrs</td>\n",
       "    </tr>\n",
       "    <tr>\n",
       "      <th>2</th>\n",
       "      <td>Clinical Data Analyst</td>\n",
       "      <td>Bangalore\\n+4</td>\n",
       "      <td>quiscon biotech</td>\n",
       "      <td>0 to 2 Yrs</td>\n",
       "    </tr>\n",
       "    <tr>\n",
       "      <th>3</th>\n",
       "      <td>Data Analyst Urgent Recruitment</td>\n",
       "      <td>Bangalore\\n+14</td>\n",
       "      <td>divya interprises</td>\n",
       "      <td>0 to 4 Yrs</td>\n",
       "    </tr>\n",
       "    <tr>\n",
       "      <th>4</th>\n",
       "      <td>Data Analyst Urgent Recruitment</td>\n",
       "      <td>Bangalore\\n+14</td>\n",
       "      <td>divya interprises</td>\n",
       "      <td>0 to 4 Yrs</td>\n",
       "    </tr>\n",
       "    <tr>\n",
       "      <th>5</th>\n",
       "      <td>Data Analyst Urgent Recruitment</td>\n",
       "      <td>Bangalore\\n+14</td>\n",
       "      <td>divya interprises</td>\n",
       "      <td>0 to 4 Yrs</td>\n",
       "    </tr>\n",
       "    <tr>\n",
       "      <th>6</th>\n",
       "      <td>Data Analyst 1</td>\n",
       "      <td>Bangalore</td>\n",
       "      <td>merck ltd</td>\n",
       "      <td>1 to 3 Yrs</td>\n",
       "    </tr>\n",
       "    <tr>\n",
       "      <th>7</th>\n",
       "      <td>Clinical Data Analyst</td>\n",
       "      <td>Bangalore\\n+6</td>\n",
       "      <td>techno endura</td>\n",
       "      <td>0 to 1 Yr</td>\n",
       "    </tr>\n",
       "    <tr>\n",
       "      <th>8</th>\n",
       "      <td>Hiring For Data Analyst</td>\n",
       "      <td>Bangalore\\n+14</td>\n",
       "      <td>divya interprises</td>\n",
       "      <td>0 to 4 Yrs</td>\n",
       "    </tr>\n",
       "    <tr>\n",
       "      <th>9</th>\n",
       "      <td>Data Analyst</td>\n",
       "      <td>Bangalore\\n+9</td>\n",
       "      <td>v-tech data outsourcing</td>\n",
       "      <td>0 to 2 Yrs</td>\n",
       "    </tr>\n",
       "  </tbody>\n",
       "</table>\n",
       "</div>"
      ],
      "text/plain": [
       "                             Title        Location                  Company  \\\n",
       "0             Data Analyst Vacancy  Bangalore\\n+14        divya interprises   \n",
       "1             Data Analyst Vacancy  Bangalore\\n+14        divya interprises   \n",
       "2            Clinical Data Analyst   Bangalore\\n+4          quiscon biotech   \n",
       "3  Data Analyst Urgent Recruitment  Bangalore\\n+14        divya interprises   \n",
       "4  Data Analyst Urgent Recruitment  Bangalore\\n+14        divya interprises   \n",
       "5  Data Analyst Urgent Recruitment  Bangalore\\n+14        divya interprises   \n",
       "6                   Data Analyst 1       Bangalore                merck ltd   \n",
       "7            Clinical Data Analyst   Bangalore\\n+6            techno endura   \n",
       "8          Hiring For Data Analyst  Bangalore\\n+14        divya interprises   \n",
       "9                     Data Analyst   Bangalore\\n+9  v-tech data outsourcing   \n",
       "\n",
       "   Experience  \n",
       "0  0 to 4 Yrs  \n",
       "1  0 to 4 Yrs  \n",
       "2  0 to 2 Yrs  \n",
       "3  0 to 4 Yrs  \n",
       "4  0 to 4 Yrs  \n",
       "5  0 to 4 Yrs  \n",
       "6  1 to 3 Yrs  \n",
       "7   0 to 1 Yr  \n",
       "8  0 to 4 Yrs  \n",
       "9  0 to 2 Yrs  "
      ]
     },
     "execution_count": 28,
     "metadata": {},
     "output_type": "execute_result"
    }
   ],
   "source": [
    "df=pd.DataFrame({'Title':job_title,'Location':job_location,'Company':company_name,'Experience':experience_required})\n",
    "df"
   ]
  },
  {
   "cell_type": "markdown",
   "id": "fef7e1a7",
   "metadata": {},
   "source": [
    "question 2"
   ]
  },
  {
   "cell_type": "code",
   "execution_count": 31,
   "id": "bf3794c7",
   "metadata": {},
   "outputs": [],
   "source": [
    "driver.get('https://www.shine.com/')"
   ]
  },
  {
   "cell_type": "code",
   "execution_count": 32,
   "id": "19902a88",
   "metadata": {},
   "outputs": [],
   "source": [
    "designation=driver.find_element(By.XPATH,'/html/body/div/div[4]/div/div[2]/div[2]/div/form/div/div[1]/ul/li[1]/div/input')\n",
    "designation.send_keys('Data Scientist')"
   ]
  },
  {
   "cell_type": "code",
   "execution_count": 33,
   "id": "386bf63c",
   "metadata": {},
   "outputs": [],
   "source": [
    "location=driver.find_element(By.XPATH,'/html/body/div/div[4]/div/div[2]/div[2]/div/form/div/div[1]/ul/li[2]/div/input')\n",
    "location.send_keys('Bangalore')"
   ]
  },
  {
   "cell_type": "code",
   "execution_count": 34,
   "id": "90e53907",
   "metadata": {},
   "outputs": [],
   "source": [
    "search=driver.find_element(By.XPATH,'/html/body/div/div[4]/div/div[2]/div[2]/div/form/div/div[2]/div/button')\n",
    "search.click()"
   ]
  },
  {
   "cell_type": "code",
   "execution_count": 35,
   "id": "e133ae25",
   "metadata": {},
   "outputs": [],
   "source": [
    "title_tags=driver.find_elements(By.XPATH,'//h2[@itemprop=\"name\"]/a')\n",
    "for i in title_tags[:10]:\n",
    "    title=i.text\n",
    "    job_title.append(title)\n",
    "    \n",
    "location_tags=driver.find_elements(By.XPATH,'//div[@class=\" jobCard_jobCard_lists_item__YxRkV jobCard_locationIcon__zrWt2\"]')\n",
    "for i in location_tags[:10]:\n",
    "    location=i.text\n",
    "    job_location.append(location)\n",
    "    \n",
    "\n"
   ]
  },
  {
   "cell_type": "code",
   "execution_count": 36,
   "id": "745c8162",
   "metadata": {},
   "outputs": [
    {
     "data": {
      "text/plain": [
       "20"
      ]
     },
     "execution_count": 36,
     "metadata": {},
     "output_type": "execute_result"
    }
   ],
   "source": [
    "len(job_title)"
   ]
  },
  {
   "cell_type": "code",
   "execution_count": 37,
   "id": "4853f864",
   "metadata": {},
   "outputs": [
    {
     "data": {
      "text/plain": [
       "20"
      ]
     },
     "execution_count": 37,
     "metadata": {},
     "output_type": "execute_result"
    }
   ],
   "source": [
    "len(job_location)"
   ]
  },
  {
   "cell_type": "code",
   "execution_count": 38,
   "id": "54243e45",
   "metadata": {},
   "outputs": [],
   "source": [
    "company_tags=driver.find_elements(By.XPATH,'//div[@class=\"jobCard_jobCard_cName__mYnow\"]/span')\n",
    "for i in company_tags[:10]:\n",
    "    company=i.text\n",
    "    company_name.append(company)\n"
   ]
  },
  {
   "cell_type": "code",
   "execution_count": 39,
   "id": "2ddb05ca",
   "metadata": {},
   "outputs": [],
   "source": [
    "\n",
    "experience_tags=driver.find_elements(By.XPATH,'//div[@class=\"jobCard_jobCard_lists__fdnsc\"]/div[1]')\n",
    "for i in experience_tags[:10]:\n",
    "    experience=i.text\n",
    "    experience_required.append(experience)"
   ]
  },
  {
   "cell_type": "code",
   "execution_count": 40,
   "id": "60cb893c",
   "metadata": {},
   "outputs": [
    {
     "data": {
      "text/plain": [
       "20"
      ]
     },
     "execution_count": 40,
     "metadata": {},
     "output_type": "execute_result"
    }
   ],
   "source": [
    "len( experience_required)"
   ]
  },
  {
   "cell_type": "code",
   "execution_count": 41,
   "id": "ad601e49",
   "metadata": {},
   "outputs": [
    {
     "data": {
      "text/plain": [
       "20"
      ]
     },
     "execution_count": 41,
     "metadata": {},
     "output_type": "execute_result"
    }
   ],
   "source": [
    "len( company_name)"
   ]
  },
  {
   "cell_type": "code",
   "execution_count": 44,
   "id": "099ac79b",
   "metadata": {},
   "outputs": [
    {
     "data": {
      "text/html": [
       "<div>\n",
       "<style scoped>\n",
       "    .dataframe tbody tr th:only-of-type {\n",
       "        vertical-align: middle;\n",
       "    }\n",
       "\n",
       "    .dataframe tbody tr th {\n",
       "        vertical-align: top;\n",
       "    }\n",
       "\n",
       "    .dataframe thead th {\n",
       "        text-align: right;\n",
       "    }\n",
       "</style>\n",
       "<table border=\"1\" class=\"dataframe\">\n",
       "  <thead>\n",
       "    <tr style=\"text-align: right;\">\n",
       "      <th></th>\n",
       "      <th>Title</th>\n",
       "      <th>Location</th>\n",
       "      <th>Company</th>\n",
       "      <th>Experience</th>\n",
       "    </tr>\n",
       "  </thead>\n",
       "  <tbody>\n",
       "    <tr>\n",
       "      <th>0</th>\n",
       "      <td>Data Analyst Vacancy</td>\n",
       "      <td>Bangalore\\n+14</td>\n",
       "      <td>divya interprises</td>\n",
       "      <td>0 to 4 Yrs</td>\n",
       "    </tr>\n",
       "    <tr>\n",
       "      <th>1</th>\n",
       "      <td>Data Analyst Vacancy</td>\n",
       "      <td>Bangalore\\n+14</td>\n",
       "      <td>divya interprises</td>\n",
       "      <td>0 to 4 Yrs</td>\n",
       "    </tr>\n",
       "    <tr>\n",
       "      <th>2</th>\n",
       "      <td>Clinical Data Analyst</td>\n",
       "      <td>Bangalore\\n+4</td>\n",
       "      <td>quiscon biotech</td>\n",
       "      <td>0 to 2 Yrs</td>\n",
       "    </tr>\n",
       "    <tr>\n",
       "      <th>3</th>\n",
       "      <td>Data Analyst Urgent Recruitment</td>\n",
       "      <td>Bangalore\\n+14</td>\n",
       "      <td>divya interprises</td>\n",
       "      <td>0 to 4 Yrs</td>\n",
       "    </tr>\n",
       "    <tr>\n",
       "      <th>4</th>\n",
       "      <td>Data Analyst Urgent Recruitment</td>\n",
       "      <td>Bangalore\\n+14</td>\n",
       "      <td>divya interprises</td>\n",
       "      <td>0 to 4 Yrs</td>\n",
       "    </tr>\n",
       "    <tr>\n",
       "      <th>5</th>\n",
       "      <td>Data Analyst Urgent Recruitment</td>\n",
       "      <td>Bangalore\\n+14</td>\n",
       "      <td>divya interprises</td>\n",
       "      <td>0 to 4 Yrs</td>\n",
       "    </tr>\n",
       "    <tr>\n",
       "      <th>6</th>\n",
       "      <td>Data Analyst 1</td>\n",
       "      <td>Bangalore</td>\n",
       "      <td>merck ltd</td>\n",
       "      <td>1 to 3 Yrs</td>\n",
       "    </tr>\n",
       "    <tr>\n",
       "      <th>7</th>\n",
       "      <td>Clinical Data Analyst</td>\n",
       "      <td>Bangalore\\n+6</td>\n",
       "      <td>techno endura</td>\n",
       "      <td>0 to 1 Yr</td>\n",
       "    </tr>\n",
       "    <tr>\n",
       "      <th>8</th>\n",
       "      <td>Hiring For Data Analyst</td>\n",
       "      <td>Bangalore\\n+14</td>\n",
       "      <td>divya interprises</td>\n",
       "      <td>0 to 4 Yrs</td>\n",
       "    </tr>\n",
       "    <tr>\n",
       "      <th>9</th>\n",
       "      <td>Data Analyst</td>\n",
       "      <td>Bangalore\\n+9</td>\n",
       "      <td>v-tech data outsourcing</td>\n",
       "      <td>0 to 2 Yrs</td>\n",
       "    </tr>\n",
       "    <tr>\n",
       "      <th>10</th>\n",
       "      <td>Data Scientist Vacancy</td>\n",
       "      <td>Bangalore\\n+14</td>\n",
       "      <td>divya interprises</td>\n",
       "      <td>0 to 4 Yrs</td>\n",
       "    </tr>\n",
       "    <tr>\n",
       "      <th>11</th>\n",
       "      <td>Data Scientist Urgent Recruitment</td>\n",
       "      <td>Bangalore\\n+14</td>\n",
       "      <td>divya interprises</td>\n",
       "      <td>0 to 4 Yrs</td>\n",
       "    </tr>\n",
       "    <tr>\n",
       "      <th>12</th>\n",
       "      <td>Data Scientist- Bangalore</td>\n",
       "      <td>Bangalore</td>\n",
       "      <td>the fashion cosmo</td>\n",
       "      <td>0 to 3 Yrs</td>\n",
       "    </tr>\n",
       "    <tr>\n",
       "      <th>13</th>\n",
       "      <td>Data Scientist-Bangalore</td>\n",
       "      <td>Bangalore</td>\n",
       "      <td>shiva hr services</td>\n",
       "      <td>0 to 3 Yrs</td>\n",
       "    </tr>\n",
       "    <tr>\n",
       "      <th>14</th>\n",
       "      <td>Hiring For Data Scientist</td>\n",
       "      <td>Bangalore\\n+14</td>\n",
       "      <td>divya interprises</td>\n",
       "      <td>0 to 4 Yrs</td>\n",
       "    </tr>\n",
       "    <tr>\n",
       "      <th>15</th>\n",
       "      <td>Data Scientist</td>\n",
       "      <td>Bangalore</td>\n",
       "      <td>racanaa energy solution private lim...</td>\n",
       "      <td>3 to 6 Yrs</td>\n",
       "    </tr>\n",
       "    <tr>\n",
       "      <th>16</th>\n",
       "      <td>Data scientist</td>\n",
       "      <td>Bangalore\\n+8</td>\n",
       "      <td>capgemini technology services india...</td>\n",
       "      <td>6 to 11 Yrs</td>\n",
       "    </tr>\n",
       "    <tr>\n",
       "      <th>17</th>\n",
       "      <td>Data Scientist - Bangalore</td>\n",
       "      <td>Bangalore</td>\n",
       "      <td>deuglo infosystem private limited</td>\n",
       "      <td>4 to 6 Yrs</td>\n",
       "    </tr>\n",
       "    <tr>\n",
       "      <th>18</th>\n",
       "      <td>Data Scientist</td>\n",
       "      <td>Bangalore\\n+1</td>\n",
       "      <td>mnr solutions pvt ltd</td>\n",
       "      <td>3 to 6 Yrs</td>\n",
       "    </tr>\n",
       "    <tr>\n",
       "      <th>19</th>\n",
       "      <td>Data Scientist</td>\n",
       "      <td>Bangalore\\n+6</td>\n",
       "      <td>mnr solutions pvt ltd</td>\n",
       "      <td>3 to 6 Yrs</td>\n",
       "    </tr>\n",
       "  </tbody>\n",
       "</table>\n",
       "</div>"
      ],
      "text/plain": [
       "                                Title        Location  \\\n",
       "0                Data Analyst Vacancy  Bangalore\\n+14   \n",
       "1                Data Analyst Vacancy  Bangalore\\n+14   \n",
       "2               Clinical Data Analyst   Bangalore\\n+4   \n",
       "3     Data Analyst Urgent Recruitment  Bangalore\\n+14   \n",
       "4     Data Analyst Urgent Recruitment  Bangalore\\n+14   \n",
       "5     Data Analyst Urgent Recruitment  Bangalore\\n+14   \n",
       "6                      Data Analyst 1       Bangalore   \n",
       "7               Clinical Data Analyst   Bangalore\\n+6   \n",
       "8             Hiring For Data Analyst  Bangalore\\n+14   \n",
       "9                        Data Analyst   Bangalore\\n+9   \n",
       "10             Data Scientist Vacancy  Bangalore\\n+14   \n",
       "11  Data Scientist Urgent Recruitment  Bangalore\\n+14   \n",
       "12          Data Scientist- Bangalore       Bangalore   \n",
       "13           Data Scientist-Bangalore       Bangalore   \n",
       "14          Hiring For Data Scientist  Bangalore\\n+14   \n",
       "15                     Data Scientist       Bangalore   \n",
       "16                     Data scientist   Bangalore\\n+8   \n",
       "17         Data Scientist - Bangalore       Bangalore   \n",
       "18                     Data Scientist   Bangalore\\n+1   \n",
       "19                     Data Scientist   Bangalore\\n+6   \n",
       "\n",
       "                                   Company   Experience  \n",
       "0                        divya interprises   0 to 4 Yrs  \n",
       "1                        divya interprises   0 to 4 Yrs  \n",
       "2                          quiscon biotech   0 to 2 Yrs  \n",
       "3                        divya interprises   0 to 4 Yrs  \n",
       "4                        divya interprises   0 to 4 Yrs  \n",
       "5                        divya interprises   0 to 4 Yrs  \n",
       "6                                merck ltd   1 to 3 Yrs  \n",
       "7                            techno endura    0 to 1 Yr  \n",
       "8                        divya interprises   0 to 4 Yrs  \n",
       "9                  v-tech data outsourcing   0 to 2 Yrs  \n",
       "10                       divya interprises   0 to 4 Yrs  \n",
       "11                       divya interprises   0 to 4 Yrs  \n",
       "12                       the fashion cosmo   0 to 3 Yrs  \n",
       "13                       shiva hr services   0 to 3 Yrs  \n",
       "14                       divya interprises   0 to 4 Yrs  \n",
       "15  racanaa energy solution private lim...   3 to 6 Yrs  \n",
       "16  capgemini technology services india...  6 to 11 Yrs  \n",
       "17       deuglo infosystem private limited   4 to 6 Yrs  \n",
       "18                   mnr solutions pvt ltd   3 to 6 Yrs  \n",
       "19                   mnr solutions pvt ltd   3 to 6 Yrs  "
      ]
     },
     "execution_count": 44,
     "metadata": {},
     "output_type": "execute_result"
    }
   ],
   "source": [
    "df1=pd.DataFrame({'Title':job_title,'Location':job_location,'Company':company_name,'Experience':experience_required})\n",
    "df1"
   ]
  },
  {
   "cell_type": "code",
   "execution_count": 45,
   "id": "64132eb6",
   "metadata": {},
   "outputs": [
    {
     "data": {
      "text/html": [
       "<div>\n",
       "<style scoped>\n",
       "    .dataframe tbody tr th:only-of-type {\n",
       "        vertical-align: middle;\n",
       "    }\n",
       "\n",
       "    .dataframe tbody tr th {\n",
       "        vertical-align: top;\n",
       "    }\n",
       "\n",
       "    .dataframe thead th {\n",
       "        text-align: right;\n",
       "    }\n",
       "</style>\n",
       "<table border=\"1\" class=\"dataframe\">\n",
       "  <thead>\n",
       "    <tr style=\"text-align: right;\">\n",
       "      <th></th>\n",
       "      <th>Title</th>\n",
       "      <th>Location</th>\n",
       "      <th>Company</th>\n",
       "      <th>Experience</th>\n",
       "    </tr>\n",
       "  </thead>\n",
       "  <tbody>\n",
       "    <tr>\n",
       "      <th>10</th>\n",
       "      <td>Data Scientist Vacancy</td>\n",
       "      <td>Bangalore\\n+14</td>\n",
       "      <td>divya interprises</td>\n",
       "      <td>0 to 4 Yrs</td>\n",
       "    </tr>\n",
       "    <tr>\n",
       "      <th>11</th>\n",
       "      <td>Data Scientist Urgent Recruitment</td>\n",
       "      <td>Bangalore\\n+14</td>\n",
       "      <td>divya interprises</td>\n",
       "      <td>0 to 4 Yrs</td>\n",
       "    </tr>\n",
       "    <tr>\n",
       "      <th>12</th>\n",
       "      <td>Data Scientist- Bangalore</td>\n",
       "      <td>Bangalore</td>\n",
       "      <td>the fashion cosmo</td>\n",
       "      <td>0 to 3 Yrs</td>\n",
       "    </tr>\n",
       "    <tr>\n",
       "      <th>13</th>\n",
       "      <td>Data Scientist-Bangalore</td>\n",
       "      <td>Bangalore</td>\n",
       "      <td>shiva hr services</td>\n",
       "      <td>0 to 3 Yrs</td>\n",
       "    </tr>\n",
       "    <tr>\n",
       "      <th>14</th>\n",
       "      <td>Hiring For Data Scientist</td>\n",
       "      <td>Bangalore\\n+14</td>\n",
       "      <td>divya interprises</td>\n",
       "      <td>0 to 4 Yrs</td>\n",
       "    </tr>\n",
       "    <tr>\n",
       "      <th>15</th>\n",
       "      <td>Data Scientist</td>\n",
       "      <td>Bangalore</td>\n",
       "      <td>racanaa energy solution private lim...</td>\n",
       "      <td>3 to 6 Yrs</td>\n",
       "    </tr>\n",
       "    <tr>\n",
       "      <th>16</th>\n",
       "      <td>Data scientist</td>\n",
       "      <td>Bangalore\\n+8</td>\n",
       "      <td>capgemini technology services india...</td>\n",
       "      <td>6 to 11 Yrs</td>\n",
       "    </tr>\n",
       "    <tr>\n",
       "      <th>17</th>\n",
       "      <td>Data Scientist - Bangalore</td>\n",
       "      <td>Bangalore</td>\n",
       "      <td>deuglo infosystem private limited</td>\n",
       "      <td>4 to 6 Yrs</td>\n",
       "    </tr>\n",
       "    <tr>\n",
       "      <th>18</th>\n",
       "      <td>Data Scientist</td>\n",
       "      <td>Bangalore\\n+1</td>\n",
       "      <td>mnr solutions pvt ltd</td>\n",
       "      <td>3 to 6 Yrs</td>\n",
       "    </tr>\n",
       "    <tr>\n",
       "      <th>19</th>\n",
       "      <td>Data Scientist</td>\n",
       "      <td>Bangalore\\n+6</td>\n",
       "      <td>mnr solutions pvt ltd</td>\n",
       "      <td>3 to 6 Yrs</td>\n",
       "    </tr>\n",
       "  </tbody>\n",
       "</table>\n",
       "</div>"
      ],
      "text/plain": [
       "                                Title        Location  \\\n",
       "10             Data Scientist Vacancy  Bangalore\\n+14   \n",
       "11  Data Scientist Urgent Recruitment  Bangalore\\n+14   \n",
       "12          Data Scientist- Bangalore       Bangalore   \n",
       "13           Data Scientist-Bangalore       Bangalore   \n",
       "14          Hiring For Data Scientist  Bangalore\\n+14   \n",
       "15                     Data Scientist       Bangalore   \n",
       "16                     Data scientist   Bangalore\\n+8   \n",
       "17         Data Scientist - Bangalore       Bangalore   \n",
       "18                     Data Scientist   Bangalore\\n+1   \n",
       "19                     Data Scientist   Bangalore\\n+6   \n",
       "\n",
       "                                   Company   Experience  \n",
       "10                       divya interprises   0 to 4 Yrs  \n",
       "11                       divya interprises   0 to 4 Yrs  \n",
       "12                       the fashion cosmo   0 to 3 Yrs  \n",
       "13                       shiva hr services   0 to 3 Yrs  \n",
       "14                       divya interprises   0 to 4 Yrs  \n",
       "15  racanaa energy solution private lim...   3 to 6 Yrs  \n",
       "16  capgemini technology services india...  6 to 11 Yrs  \n",
       "17       deuglo infosystem private limited   4 to 6 Yrs  \n",
       "18                   mnr solutions pvt ltd   3 to 6 Yrs  \n",
       "19                   mnr solutions pvt ltd   3 to 6 Yrs  "
      ]
     },
     "execution_count": 45,
     "metadata": {},
     "output_type": "execute_result"
    }
   ],
   "source": [
    "df1.tail(10)"
   ]
  },
  {
   "cell_type": "markdown",
   "id": "28671231",
   "metadata": {},
   "source": [
    "Question3"
   ]
  },
  {
   "cell_type": "code",
   "execution_count": 75,
   "id": "02e8bbaa",
   "metadata": {},
   "outputs": [],
   "source": [
    "driver2=webdriver.Chrome()"
   ]
  },
  {
   "cell_type": "code",
   "execution_count": 78,
   "id": "34d28804",
   "metadata": {},
   "outputs": [],
   "source": [
    "driver2.get(' https://www.shine.com/')"
   ]
  },
  {
   "cell_type": "code",
   "execution_count": 79,
   "id": "80b3fd46",
   "metadata": {},
   "outputs": [],
   "source": [
    "designation=driver2.find_element(By.XPATH,'/html/body/div/div[4]/div/div[2]/div[2]/div/form/div/div[1]/ul/li[1]/div/input')\n",
    "designation.send_keys('Data Scientist')"
   ]
  },
  {
   "cell_type": "code",
   "execution_count": 80,
   "id": "0cccc438",
   "metadata": {},
   "outputs": [],
   "source": [
    "search=driver2.find_element(By.XPATH,'//html/body/div/div[4]/div/div[2]/div[2]/div/form/div/div[2]/div/button')\n",
    "search.click()"
   ]
  },
  {
   "cell_type": "code",
   "execution_count": 81,
   "id": "99437731",
   "metadata": {},
   "outputs": [],
   "source": [
    "location=driver2.find_element(By.XPATH,'/html/body/div[1]/div[1]/div[3]/div/div[1]/div/div[2]/div[2]/div/div/div/div[3]/div/div/div/ul/li[1]/input')\n",
    "location.send_keys('Delhi/NCR')"
   ]
  },
  {
   "cell_type": "code",
   "execution_count": 82,
   "id": "ee16e475",
   "metadata": {},
   "outputs": [],
   "source": [
    "salary=driver2.find_element(By.XPATH,'/html/body/div[1]/div[1]/div[3]/div/div[1]/div/div[2]/div[2]/div/div/div/div[3]/div/div/div/ul/li[1]/input')\n",
    "salary.send_keys('3-6 lakhs')"
   ]
  },
  {
   "cell_type": "code",
   "execution_count": 84,
   "id": "be21abcc",
   "metadata": {},
   "outputs": [],
   "source": [
    "job_title2=[]\n",
    "job_location2=[]\n",
    "company_name2=[]\n",
    "experience_required2=[]"
   ]
  },
  {
   "cell_type": "code",
   "execution_count": 85,
   "id": "01d7895a",
   "metadata": {},
   "outputs": [],
   "source": [
    "title_tags=driver2.find_elements(By.XPATH,'//h2[@itemprop=\"name\"]/a')\n",
    "for i in title_tags[:10]:\n",
    "    title=i.text\n",
    "    job_title2.append(title)"
   ]
  },
  {
   "cell_type": "code",
   "execution_count": 86,
   "id": "7fbd0a99",
   "metadata": {},
   "outputs": [
    {
     "data": {
      "text/plain": [
       "['Data Scientists 2024',\n",
       " 'Data Scientist Vacancy',\n",
       " 'Data Scientist Vacancy',\n",
       " 'Data Scientist Vacancy',\n",
       " 'Data Scientist Management Consulting Mumbai',\n",
       " 'Data Scientist Urgent Recruitment',\n",
       " 'Data Scientist Urgent Recruitment',\n",
       " 'Data Scientist Urgent Recruitment',\n",
       " 'Senior Data Scientist',\n",
       " 'Data Scientist- Madhya Pradesh']"
      ]
     },
     "execution_count": 86,
     "metadata": {},
     "output_type": "execute_result"
    }
   ],
   "source": [
    "job_title2"
   ]
  },
  {
   "cell_type": "code",
   "execution_count": 90,
   "id": "c782ca8d",
   "metadata": {},
   "outputs": [],
   "source": [
    "location_tags=driver2.find_elements(By.XPATH,'//div[@class=\" jobCard_jobCard_lists_item__YxRkV jobCard_locationIcon__zrWt2\"]')\n",
    "for i in location_tags[:10]:\n",
    "    location=i.text\n",
    "    job_location2.append(location)"
   ]
  },
  {
   "cell_type": "code",
   "execution_count": 87,
   "id": "08f39a06",
   "metadata": {},
   "outputs": [],
   "source": [
    "company_tags=driver2.find_elements(By.XPATH,'//div[@class=\"jobCard_jobCard_cName__mYnow\"]/span')\n",
    "for i in company_tags[:10]:\n",
    "    company=i.text\n",
    "    company_name2.append(company)"
   ]
  },
  {
   "cell_type": "code",
   "execution_count": 91,
   "id": "2bb1ea0d",
   "metadata": {},
   "outputs": [],
   "source": [
    "experience_tags=driver2.find_elements(By.XPATH,'//div[@class=\"jobCard_jobCard_lists__fdnsc\"]/div')\n",
    "for i in experience_tags[:10]:\n",
    "    experience=i.text\n",
    "    experience_required2.append(experience)"
   ]
  },
  {
   "cell_type": "code",
   "execution_count": 92,
   "id": "20d097a9",
   "metadata": {},
   "outputs": [
    {
     "data": {
      "text/plain": [
       "10"
      ]
     },
     "execution_count": 92,
     "metadata": {},
     "output_type": "execute_result"
    }
   ],
   "source": [
    "len(experience_required2)"
   ]
  },
  {
   "cell_type": "code",
   "execution_count": 94,
   "id": "4c83c56a",
   "metadata": {},
   "outputs": [
    {
     "data": {
      "text/html": [
       "<div>\n",
       "<style scoped>\n",
       "    .dataframe tbody tr th:only-of-type {\n",
       "        vertical-align: middle;\n",
       "    }\n",
       "\n",
       "    .dataframe tbody tr th {\n",
       "        vertical-align: top;\n",
       "    }\n",
       "\n",
       "    .dataframe thead th {\n",
       "        text-align: right;\n",
       "    }\n",
       "</style>\n",
       "<table border=\"1\" class=\"dataframe\">\n",
       "  <thead>\n",
       "    <tr style=\"text-align: right;\">\n",
       "      <th></th>\n",
       "      <th>Title</th>\n",
       "      <th>Location</th>\n",
       "      <th>Company</th>\n",
       "      <th>Experience</th>\n",
       "    </tr>\n",
       "  </thead>\n",
       "  <tbody>\n",
       "    <tr>\n",
       "      <th>0</th>\n",
       "      <td>Data Scientists 2024</td>\n",
       "      <td>Coimbatore</td>\n",
       "      <td>bosch group</td>\n",
       "      <td>0 to 4 Yrs</td>\n",
       "    </tr>\n",
       "    <tr>\n",
       "      <th>1</th>\n",
       "      <td>Data Scientist Vacancy</td>\n",
       "      <td>Oman\\n+14</td>\n",
       "      <td>divya interprises</td>\n",
       "      <td>Coimbatore</td>\n",
       "    </tr>\n",
       "    <tr>\n",
       "      <th>2</th>\n",
       "      <td>Data Scientist Vacancy</td>\n",
       "      <td>Oman\\n+14</td>\n",
       "      <td>divya interprises</td>\n",
       "      <td>0 to 4 Yrs</td>\n",
       "    </tr>\n",
       "    <tr>\n",
       "      <th>3</th>\n",
       "      <td>Data Scientist Vacancy</td>\n",
       "      <td>Oman\\n+14</td>\n",
       "      <td>divya interprises</td>\n",
       "      <td>Oman\\n+14</td>\n",
       "    </tr>\n",
       "    <tr>\n",
       "      <th>4</th>\n",
       "      <td>Data Scientist Management Consulting Mumbai</td>\n",
       "      <td>Mumbai City</td>\n",
       "      <td>morpheus human consulting pvt ltd</td>\n",
       "      <td>0 to 4 Yrs</td>\n",
       "    </tr>\n",
       "    <tr>\n",
       "      <th>5</th>\n",
       "      <td>Data Scientist Urgent Recruitment</td>\n",
       "      <td>Oman\\n+14</td>\n",
       "      <td>divya interprises</td>\n",
       "      <td>Oman\\n+14</td>\n",
       "    </tr>\n",
       "    <tr>\n",
       "      <th>6</th>\n",
       "      <td>Data Scientist Urgent Recruitment</td>\n",
       "      <td>Other West Bengal\\n+14</td>\n",
       "      <td>divya interprises</td>\n",
       "      <td>0 to 4 Yrs</td>\n",
       "    </tr>\n",
       "    <tr>\n",
       "      <th>7</th>\n",
       "      <td>Data Scientist Urgent Recruitment</td>\n",
       "      <td>Oman\\n+14</td>\n",
       "      <td>divya interprises</td>\n",
       "      <td>Oman\\n+14</td>\n",
       "    </tr>\n",
       "    <tr>\n",
       "      <th>8</th>\n",
       "      <td>Senior Data Scientist</td>\n",
       "      <td>Chennai</td>\n",
       "      <td>pfizer limited</td>\n",
       "      <td>2 to 4 Yrs</td>\n",
       "    </tr>\n",
       "    <tr>\n",
       "      <th>9</th>\n",
       "      <td>Data Scientist- Madhya Pradesh</td>\n",
       "      <td>Other Madhya Pradesh</td>\n",
       "      <td>the fashion cosmo</td>\n",
       "      <td>Mumbai City</td>\n",
       "    </tr>\n",
       "  </tbody>\n",
       "</table>\n",
       "</div>"
      ],
      "text/plain": [
       "                                         Title                Location  \\\n",
       "0                         Data Scientists 2024              Coimbatore   \n",
       "1                       Data Scientist Vacancy               Oman\\n+14   \n",
       "2                       Data Scientist Vacancy               Oman\\n+14   \n",
       "3                       Data Scientist Vacancy               Oman\\n+14   \n",
       "4  Data Scientist Management Consulting Mumbai             Mumbai City   \n",
       "5            Data Scientist Urgent Recruitment               Oman\\n+14   \n",
       "6            Data Scientist Urgent Recruitment  Other West Bengal\\n+14   \n",
       "7            Data Scientist Urgent Recruitment               Oman\\n+14   \n",
       "8                        Senior Data Scientist                 Chennai   \n",
       "9               Data Scientist- Madhya Pradesh    Other Madhya Pradesh   \n",
       "\n",
       "                             Company   Experience  \n",
       "0                        bosch group   0 to 4 Yrs  \n",
       "1                  divya interprises   Coimbatore  \n",
       "2                  divya interprises   0 to 4 Yrs  \n",
       "3                  divya interprises    Oman\\n+14  \n",
       "4  morpheus human consulting pvt ltd   0 to 4 Yrs  \n",
       "5                  divya interprises    Oman\\n+14  \n",
       "6                  divya interprises   0 to 4 Yrs  \n",
       "7                  divya interprises    Oman\\n+14  \n",
       "8                     pfizer limited   2 to 4 Yrs  \n",
       "9                  the fashion cosmo  Mumbai City  "
      ]
     },
     "execution_count": 94,
     "metadata": {},
     "output_type": "execute_result"
    }
   ],
   "source": [
    "df1=pd.DataFrame({'Title':job_title2,'Location':job_location2,'Company':company_name2,'Experience':experience_required2})\n",
    "df1"
   ]
  },
  {
   "cell_type": "markdown",
   "id": "7c188b5c",
   "metadata": {},
   "source": [
    "Question 4"
   ]
  },
  {
   "cell_type": "code",
   "execution_count": 140,
   "id": "c8f621e5",
   "metadata": {},
   "outputs": [],
   "source": [
    "driver3=webdriver.Chrome()"
   ]
  },
  {
   "cell_type": "code",
   "execution_count": 141,
   "id": "4b498191",
   "metadata": {},
   "outputs": [],
   "source": [
    "driver3.get('https://www.flipkart.com/')"
   ]
  },
  {
   "cell_type": "code",
   "execution_count": 142,
   "id": "ac5d5cd9",
   "metadata": {},
   "outputs": [],
   "source": [
    "designation=driver3.find_element(By.XPATH,'/html/body/div[1]/div/div[1]/div/div/div/div/div[1]/div/div[1]/div/div[1]/header/div[1]/div[2]/form/div/div/input')\n",
    "designation.send_keys('Sunglasses')"
   ]
  },
  {
   "cell_type": "code",
   "execution_count": 143,
   "id": "c4243253",
   "metadata": {},
   "outputs": [],
   "source": [
    "search=driver3.find_element(By.XPATH,'/html/body/div[1]/div/div[1]/div/div/div/div/div[1]/div/div[1]/div/div[1]/header/div[1]/div[2]/form/div/button')\n",
    "search.click()"
   ]
  },
  {
   "cell_type": "code",
   "execution_count": 148,
   "id": "87917b81",
   "metadata": {},
   "outputs": [],
   "source": [
    "brand3=[]\n",
    "for y in range(0,3):\n",
    "    titles=driver3.find_elements(By.XPATH,'//div[@class=\"_2WkVRV\"]')\n",
    "    for i in titles:\n",
    "        brand3.append(i.text)\n",
    "    next_button=driver3.find_element(By.XPATH,'/html/body/div/div/div[3]/div[1]/div[2]/div[12]/div/div/nav/a[11]')\n",
    "    next_button.click()"
   ]
  },
  {
   "cell_type": "code",
   "execution_count": 149,
   "id": "b881a8b2",
   "metadata": {},
   "outputs": [
    {
     "data": {
      "text/plain": [
       "120"
      ]
     },
     "execution_count": 149,
     "metadata": {},
     "output_type": "execute_result"
    }
   ],
   "source": [
    "len(brand3)"
   ]
  },
  {
   "cell_type": "code",
   "execution_count": 151,
   "id": "5dbeeb1f",
   "metadata": {},
   "outputs": [],
   "source": [
    "desc=[]\n",
    "for y in range(0,3):\n",
    "    prod=driver3.find_elements(By.XPATH,'//a[@class=\"IRpwTa\"]')\n",
    "    for i in prod:\n",
    "        desc.append(i.text)\n",
    "    next_button=driver3.find_element(By.XPATH,'/html/body/div/div/div[3]/div[1]/div[2]/div[12]/div/div/nav/a[12]')\n",
    "    next_button.click()\n",
    "    time.sleep(3)"
   ]
  },
  {
   "cell_type": "code",
   "execution_count": 153,
   "id": "9ec798cf",
   "metadata": {},
   "outputs": [
    {
     "data": {
      "text/plain": [
       "120"
      ]
     },
     "execution_count": 153,
     "metadata": {},
     "output_type": "execute_result"
    }
   ],
   "source": [
    "len(desc)"
   ]
  },
  {
   "cell_type": "code",
   "execution_count": 154,
   "id": "3c6b038c",
   "metadata": {},
   "outputs": [],
   "source": [
    "price=[]\n",
    "for y in range(0,3):\n",
    "    pr=driver3.find_elements(By.XPATH,'//div[@class=\"_30jeq3\"]')\n",
    "    for i in pr:\n",
    "        price.append(i.text)\n",
    "    next_button=driver3.find_element(By.XPATH,'/html/body/div/div/div[3]/div[1]/div[2]/div[12]/div/div/nav/a[12]')\n",
    "    next_button.click()\n",
    "    time.sleep(3)"
   ]
  },
  {
   "cell_type": "code",
   "execution_count": 155,
   "id": "a1f43886",
   "metadata": {},
   "outputs": [
    {
     "data": {
      "text/plain": [
       "120"
      ]
     },
     "execution_count": 155,
     "metadata": {},
     "output_type": "execute_result"
    }
   ],
   "source": [
    "len(price)"
   ]
  },
  {
   "cell_type": "code",
   "execution_count": 159,
   "id": "54e091a0",
   "metadata": {},
   "outputs": [
    {
     "data": {
      "text/html": [
       "<div>\n",
       "<style scoped>\n",
       "    .dataframe tbody tr th:only-of-type {\n",
       "        vertical-align: middle;\n",
       "    }\n",
       "\n",
       "    .dataframe tbody tr th {\n",
       "        vertical-align: top;\n",
       "    }\n",
       "\n",
       "    .dataframe thead th {\n",
       "        text-align: right;\n",
       "    }\n",
       "</style>\n",
       "<table border=\"1\" class=\"dataframe\">\n",
       "  <thead>\n",
       "    <tr style=\"text-align: right;\">\n",
       "      <th></th>\n",
       "      <th>Brand</th>\n",
       "      <th>Description</th>\n",
       "      <th>Price</th>\n",
       "    </tr>\n",
       "  </thead>\n",
       "  <tbody>\n",
       "    <tr>\n",
       "      <th>0</th>\n",
       "      <td>ROZIOR</td>\n",
       "      <td>Mirrored Aviator Sunglasses (58)</td>\n",
       "      <td>₹1,699</td>\n",
       "    </tr>\n",
       "    <tr>\n",
       "      <th>1</th>\n",
       "      <td>IRUS</td>\n",
       "      <td>by Lenskart Polarized, UV Protection Rectangul...</td>\n",
       "      <td>₹1,225</td>\n",
       "    </tr>\n",
       "    <tr>\n",
       "      <th>2</th>\n",
       "      <td>Ray-Ban</td>\n",
       "      <td>Polarized, UV Protection Aviator Sunglasses (58)</td>\n",
       "      <td>₹396</td>\n",
       "    </tr>\n",
       "    <tr>\n",
       "      <th>3</th>\n",
       "      <td>GUESS</td>\n",
       "      <td>UV Protection Aviator Sunglasses (54)</td>\n",
       "      <td>₹7,792</td>\n",
       "    </tr>\n",
       "    <tr>\n",
       "      <th>4</th>\n",
       "      <td>VINCENT CHASE</td>\n",
       "      <td>UV Protection Cat-eye Sunglasses (57)</td>\n",
       "      <td>₹219</td>\n",
       "    </tr>\n",
       "    <tr>\n",
       "      <th>...</th>\n",
       "      <td>...</td>\n",
       "      <td>...</td>\n",
       "      <td>...</td>\n",
       "    </tr>\n",
       "    <tr>\n",
       "      <th>95</th>\n",
       "      <td>john jacobs</td>\n",
       "      <td>UV Protection Aviator Sunglasses (54)</td>\n",
       "      <td>₹659</td>\n",
       "    </tr>\n",
       "    <tr>\n",
       "      <th>96</th>\n",
       "      <td>IRUS</td>\n",
       "      <td>Polarized, UV Protection Aviator Sunglasses (57)</td>\n",
       "      <td>₹2,499</td>\n",
       "    </tr>\n",
       "    <tr>\n",
       "      <th>97</th>\n",
       "      <td>ROYAL SON</td>\n",
       "      <td>Polarized, UV Protection Aviator Sunglasses (58)</td>\n",
       "      <td>₹524</td>\n",
       "    </tr>\n",
       "    <tr>\n",
       "      <th>98</th>\n",
       "      <td>john jacobs</td>\n",
       "      <td>UV Protection Retro Square Sunglasses (54)</td>\n",
       "      <td>₹1,498</td>\n",
       "    </tr>\n",
       "    <tr>\n",
       "      <th>99</th>\n",
       "      <td>NuVew</td>\n",
       "      <td>Polarized, UV Protection Retro Square Sunglass...</td>\n",
       "      <td>₹5,092</td>\n",
       "    </tr>\n",
       "  </tbody>\n",
       "</table>\n",
       "<p>100 rows × 3 columns</p>\n",
       "</div>"
      ],
      "text/plain": [
       "            Brand                                        Description   Price\n",
       "0          ROZIOR                   Mirrored Aviator Sunglasses (58)  ₹1,699\n",
       "1            IRUS  by Lenskart Polarized, UV Protection Rectangul...  ₹1,225\n",
       "2         Ray-Ban   Polarized, UV Protection Aviator Sunglasses (58)    ₹396\n",
       "3           GUESS              UV Protection Aviator Sunglasses (54)  ₹7,792\n",
       "4   VINCENT CHASE              UV Protection Cat-eye Sunglasses (57)    ₹219\n",
       "..            ...                                                ...     ...\n",
       "95    john jacobs              UV Protection Aviator Sunglasses (54)    ₹659\n",
       "96           IRUS   Polarized, UV Protection Aviator Sunglasses (57)  ₹2,499\n",
       "97      ROYAL SON   Polarized, UV Protection Aviator Sunglasses (58)    ₹524\n",
       "98    john jacobs         UV Protection Retro Square Sunglasses (54)  ₹1,498\n",
       "99          NuVew  Polarized, UV Protection Retro Square Sunglass...  ₹5,092\n",
       "\n",
       "[100 rows x 3 columns]"
      ]
     },
     "execution_count": 159,
     "metadata": {},
     "output_type": "execute_result"
    }
   ],
   "source": [
    "df2=pd.DataFrame({'Brand':brand3,'Description':desc,'Price':price})\n",
    "df2=df2.head(100)\n",
    "df2"
   ]
  },
  {
   "cell_type": "markdown",
   "id": "dd26320c",
   "metadata": {},
   "source": [
    " Question 5"
   ]
  },
  {
   "cell_type": "code",
   "execution_count": null,
   "id": "171ca97a",
   "metadata": {},
   "outputs": [],
   "source": []
  },
  {
   "cell_type": "code",
   "execution_count": 131,
   "id": "bc3a7f29",
   "metadata": {},
   "outputs": [],
   "source": [
    "driver5=webdriver.Chrome()"
   ]
  },
  {
   "cell_type": "code",
   "execution_count": 132,
   "id": "d4ac0f60",
   "metadata": {},
   "outputs": [],
   "source": [
    "driver5.get('https://www.flipkart.com/')"
   ]
  },
  {
   "cell_type": "code",
   "execution_count": 135,
   "id": "88a74723",
   "metadata": {},
   "outputs": [],
   "source": [
    "search=driver5.find_element(By.XPATH,'/html/body/div[1]/div/div[1]/div/div/div/div/div[1]/div/div[1]/div/div[1]/header/div[1]/div[2]/form/div/button')\n",
    "search.click()"
   ]
  },
  {
   "cell_type": "markdown",
   "id": "99e33130",
   "metadata": {},
   "source": [
    "Question 6"
   ]
  },
  {
   "cell_type": "code",
   "execution_count": 160,
   "id": "52ca0ac7",
   "metadata": {},
   "outputs": [],
   "source": [
    "driver4=webdriver.Chrome()"
   ]
  },
  {
   "cell_type": "code",
   "execution_count": 162,
   "id": "adcd916d",
   "metadata": {},
   "outputs": [],
   "source": [
    "driver4.get('https://www.flipkart.com/')"
   ]
  },
  {
   "cell_type": "code",
   "execution_count": 164,
   "id": "ff7dd1e7",
   "metadata": {},
   "outputs": [],
   "source": [
    "designation=driver4.find_element(By.XPATH,'/html/body/div[1]/div/div[1]/div/div/div/div/div[1]/div/div[1]/div/div[1]/header/div[1]/div[2]/form/div/div/input')\n",
    "designation.send_keys('sneakers')"
   ]
  },
  {
   "cell_type": "code",
   "execution_count": 165,
   "id": "3a51ab71",
   "metadata": {},
   "outputs": [],
   "source": [
    "search=driver4.find_element(By.XPATH,'/html/body/div[1]/div/div[1]/div/div/div/div/div[1]/div/div[1]/div/div[1]/header/div[1]/div[2]/form/div/button')\n",
    "search.click()"
   ]
  },
  {
   "cell_type": "code",
   "execution_count": 169,
   "id": "e2bb8428",
   "metadata": {},
   "outputs": [],
   "source": [
    "brand4=[]\n",
    "for y in range(0,3):\n",
    "    br=driver4.find_elements(By.XPATH,'//div[@class=\"_2WkVRV\"]')\n",
    "    for i in br:\n",
    "        brand4.append(i.text)\n",
    "    next_button=driver4.find_element(By.XPATH,'/html/body/div/div/div[3]/div[1]/div[2]/div[12]/div/div/nav/a[11]')\n",
    "    next_button.click()\n",
    "    time.sleep(3)"
   ]
  },
  {
   "cell_type": "code",
   "execution_count": 170,
   "id": "d272a6e9",
   "metadata": {},
   "outputs": [
    {
     "data": {
      "text/plain": [
       "120"
      ]
     },
     "execution_count": 170,
     "metadata": {},
     "output_type": "execute_result"
    }
   ],
   "source": [
    "len(brand4)"
   ]
  },
  {
   "cell_type": "code",
   "execution_count": 171,
   "id": "d4b38569",
   "metadata": {},
   "outputs": [],
   "source": [
    "pd=[]\n",
    "for page in range(0,3):\n",
    "    prod=driver4.find_elements(By.XPATH,'//a[@class=\"IRpwTa\"]')\n",
    "    for i in prod:\n",
    "        pd.append(i.text)\n",
    "    next_button=driver4.find_element(By.XPATH,'/html/body/div/div/div[3]/div[1]/div[2]/div[12]/div/div/nav/a[12]')\n",
    "    next_button.click()\n",
    "    time.sleep(3)"
   ]
  },
  {
   "cell_type": "code",
   "execution_count": 172,
   "id": "279be5d9",
   "metadata": {},
   "outputs": [
    {
     "data": {
      "text/plain": [
       "120"
      ]
     },
     "execution_count": 172,
     "metadata": {},
     "output_type": "execute_result"
    }
   ],
   "source": [
    "len(pd)"
   ]
  },
  {
   "cell_type": "code",
   "execution_count": 175,
   "id": "1dcfd1c8",
   "metadata": {},
   "outputs": [],
   "source": [
    "price=[]\n",
    "for page in range(0,3):\n",
    "    pr=driver4.find_elements(By.XPATH,'//div[@class=\"_30jeq3\"]')\n",
    "    for i in pr:\n",
    "        price.append(i.text)\n",
    "    next_button=driver4.find_element(By.XPATH,'/html/body/div/div/div[3]/div[1]/div[2]/div[12]/div/div/nav/a[12]')\n",
    "    next_button.click()\n",
    "    time.sleep(3)"
   ]
  },
  {
   "cell_type": "code",
   "execution_count": 176,
   "id": "c9fcedc4",
   "metadata": {},
   "outputs": [
    {
     "data": {
      "text/plain": [
       "120"
      ]
     },
     "execution_count": 176,
     "metadata": {},
     "output_type": "execute_result"
    }
   ],
   "source": [
    "len(price)"
   ]
  },
  {
   "cell_type": "code",
   "execution_count": 184,
   "id": "15cf963b",
   "metadata": {},
   "outputs": [],
   "source": [
    "import pandas as pd"
   ]
  },
  {
   "cell_type": "code",
   "execution_count": 185,
   "id": "82b060fe",
   "metadata": {},
   "outputs": [
    {
     "data": {
      "text/html": [
       "<div>\n",
       "<style scoped>\n",
       "    .dataframe tbody tr th:only-of-type {\n",
       "        vertical-align: middle;\n",
       "    }\n",
       "\n",
       "    .dataframe tbody tr th {\n",
       "        vertical-align: top;\n",
       "    }\n",
       "\n",
       "    .dataframe thead th {\n",
       "        text-align: right;\n",
       "    }\n",
       "</style>\n",
       "<table border=\"1\" class=\"dataframe\">\n",
       "  <thead>\n",
       "    <tr style=\"text-align: right;\">\n",
       "      <th></th>\n",
       "      <th>Brand</th>\n",
       "      <th>Prod Description</th>\n",
       "      <th>Price</th>\n",
       "    </tr>\n",
       "  </thead>\n",
       "  <tbody>\n",
       "    <tr>\n",
       "      <th>0</th>\n",
       "      <td>BRUTON</td>\n",
       "      <td>&lt;module 'pandas' from 'C:\\\\Users\\\\temit\\\\anaco...</td>\n",
       "      <td>₹639</td>\n",
       "    </tr>\n",
       "    <tr>\n",
       "      <th>1</th>\n",
       "      <td>BRUTON</td>\n",
       "      <td>&lt;module 'pandas' from 'C:\\\\Users\\\\temit\\\\anaco...</td>\n",
       "      <td>₹639</td>\n",
       "    </tr>\n",
       "    <tr>\n",
       "      <th>2</th>\n",
       "      <td>streetLOOK</td>\n",
       "      <td>&lt;module 'pandas' from 'C:\\\\Users\\\\temit\\\\anaco...</td>\n",
       "      <td>₹2,249</td>\n",
       "    </tr>\n",
       "    <tr>\n",
       "      <th>3</th>\n",
       "      <td>PUMA</td>\n",
       "      <td>&lt;module 'pandas' from 'C:\\\\Users\\\\temit\\\\anaco...</td>\n",
       "      <td>₹2,249</td>\n",
       "    </tr>\n",
       "    <tr>\n",
       "      <th>4</th>\n",
       "      <td>PUMA</td>\n",
       "      <td>&lt;module 'pandas' from 'C:\\\\Users\\\\temit\\\\anaco...</td>\n",
       "      <td>₹4,949</td>\n",
       "    </tr>\n",
       "    <tr>\n",
       "      <th>...</th>\n",
       "      <td>...</td>\n",
       "      <td>...</td>\n",
       "      <td>...</td>\n",
       "    </tr>\n",
       "    <tr>\n",
       "      <th>95</th>\n",
       "      <td>Layasa</td>\n",
       "      <td>&lt;module 'pandas' from 'C:\\\\Users\\\\temit\\\\anaco...</td>\n",
       "      <td>₹399</td>\n",
       "    </tr>\n",
       "    <tr>\n",
       "      <th>96</th>\n",
       "      <td>PUMA</td>\n",
       "      <td>&lt;module 'pandas' from 'C:\\\\Users\\\\temit\\\\anaco...</td>\n",
       "      <td>₹1,784</td>\n",
       "    </tr>\n",
       "    <tr>\n",
       "      <th>97</th>\n",
       "      <td>PUMA</td>\n",
       "      <td>&lt;module 'pandas' from 'C:\\\\Users\\\\temit\\\\anaco...</td>\n",
       "      <td>₹1,584</td>\n",
       "    </tr>\n",
       "    <tr>\n",
       "      <th>98</th>\n",
       "      <td>LEVI'S</td>\n",
       "      <td>&lt;module 'pandas' from 'C:\\\\Users\\\\temit\\\\anaco...</td>\n",
       "      <td>₹1,989</td>\n",
       "    </tr>\n",
       "    <tr>\n",
       "      <th>99</th>\n",
       "      <td>ADIDAS</td>\n",
       "      <td>&lt;module 'pandas' from 'C:\\\\Users\\\\temit\\\\anaco...</td>\n",
       "      <td>₹4,999</td>\n",
       "    </tr>\n",
       "  </tbody>\n",
       "</table>\n",
       "<p>100 rows × 3 columns</p>\n",
       "</div>"
      ],
      "text/plain": [
       "         Brand                                   Prod Description   Price\n",
       "0       BRUTON  <module 'pandas' from 'C:\\\\Users\\\\temit\\\\anaco...    ₹639\n",
       "1       BRUTON  <module 'pandas' from 'C:\\\\Users\\\\temit\\\\anaco...    ₹639\n",
       "2   streetLOOK  <module 'pandas' from 'C:\\\\Users\\\\temit\\\\anaco...  ₹2,249\n",
       "3         PUMA  <module 'pandas' from 'C:\\\\Users\\\\temit\\\\anaco...  ₹2,249\n",
       "4         PUMA  <module 'pandas' from 'C:\\\\Users\\\\temit\\\\anaco...  ₹4,949\n",
       "..         ...                                                ...     ...\n",
       "95      Layasa  <module 'pandas' from 'C:\\\\Users\\\\temit\\\\anaco...    ₹399\n",
       "96        PUMA  <module 'pandas' from 'C:\\\\Users\\\\temit\\\\anaco...  ₹1,784\n",
       "97        PUMA  <module 'pandas' from 'C:\\\\Users\\\\temit\\\\anaco...  ₹1,584\n",
       "98      LEVI'S  <module 'pandas' from 'C:\\\\Users\\\\temit\\\\anaco...  ₹1,989\n",
       "99      ADIDAS  <module 'pandas' from 'C:\\\\Users\\\\temit\\\\anaco...  ₹4,999\n",
       "\n",
       "[100 rows x 3 columns]"
      ]
     },
     "execution_count": 185,
     "metadata": {},
     "output_type": "execute_result"
    }
   ],
   "source": [
    "df=pd.DataFrame({'Brand':brand4,'Prod Description':pd,'Price':price})\n",
    "df=df.head(100)\n",
    "df"
   ]
  },
  {
   "cell_type": "markdown",
   "id": "75d7d5a3",
   "metadata": {},
   "source": [
    "Question 7"
   ]
  },
  {
   "cell_type": "code",
   "execution_count": 186,
   "id": "ba886137",
   "metadata": {},
   "outputs": [],
   "source": [
    "driver7=webdriver.Chrome()"
   ]
  },
  {
   "cell_type": "code",
   "execution_count": 187,
   "id": "aad67493",
   "metadata": {},
   "outputs": [],
   "source": [
    "driver7.get('https://www.amazon.in/')"
   ]
  },
  {
   "cell_type": "code",
   "execution_count": 188,
   "id": "8f21baf7",
   "metadata": {},
   "outputs": [],
   "source": [
    "robot=driver7.find_element(By.XPATH,'/html/body/div/div[1]/div[3]/div/div/form/div[1]/div/div/div[2]/input')\n",
    "robot.send_keys('CUGCHG')"
   ]
  },
  {
   "cell_type": "code",
   "execution_count": 189,
   "id": "4a753bd7",
   "metadata": {},
   "outputs": [],
   "source": [
    "cs=driver7.find_element(By.XPATH,'/html/body/div/div[1]/div[3]/div/div/form/div[2]/div/span/span/button')\n",
    "cs.click()"
   ]
  },
  {
   "cell_type": "code",
   "execution_count": 194,
   "id": "5acdd53a",
   "metadata": {},
   "outputs": [],
   "source": [
    "designation=driver7.find_element(By.XPATH,'/html/body/div[1]/header/div/div[1]/div[2]/div/form/div[2]/div[1]/input')\n",
    "designation.send_keys('Laptops')"
   ]
  },
  {
   "cell_type": "code",
   "execution_count": 192,
   "id": "8d637370",
   "metadata": {},
   "outputs": [],
   "source": [
    "search=driver7.find_element(By.XPATH,'/html/body')\n",
    "search.click()"
   ]
  },
  {
   "cell_type": "code",
   "execution_count": 195,
   "id": "ca6bc2ae",
   "metadata": {},
   "outputs": [],
   "source": [
    "core=driver7.find_element(By.XPATH,'/html/body/div[1]/div[1]/div[1]/div[2]/div/div[3]/span/div[1]/div/div/div[6]/ul[6]/span[12]/li/span/a/span')\n",
    "core.click()"
   ]
  },
  {
   "cell_type": "code",
   "execution_count": 196,
   "id": "35596848",
   "metadata": {},
   "outputs": [],
   "source": [
    "title=[]\n",
    "rating=[]\n",
    "price=[]"
   ]
  },
  {
   "cell_type": "code",
   "execution_count": 197,
   "id": "954c6da4",
   "metadata": {},
   "outputs": [
    {
     "data": {
      "text/plain": [
       "['ASUS TUF Gaming F15, 15.6\"(39.62 cms) FHD 144Hz, Intel Core i7-11800H 11th Gen, 4GB NVIDIA GeForce RTX 3050 Ti, Gaming Laptop (16GB/512GB SSD/Windows 11/90WHrs Battery/Black/2.30 Kg), FX506HE-HN382W',\n",
       " 'HP Laptop 15s, 12th Gen Intel Core i7-1255U, 15.6-inch (39.6 cm), FHD, 16GB DDR4, 512GB SSD, Intel Iris Xe Graphics, Backlit KB, Thin & Light (Win 11, MSO 2021, Silver, 1.69 kg), fq5190TU',\n",
       " 'MSI Modern 14, Intel 12th Gen. i7-1255U, 36CM FHD 60Hz Laptop (16GB/512GB NVMe SSD/Windows 11 Home/Intel Iris Xe Graphics/Classic Black/1.4Kg), C12M-459IN',\n",
       " 'Lenovo IdeaPad Slim 3 Intel Core i7 11th Gen 15.6\" (39.62cm) FHD Laptop (16GB/512GB SSD/Win 11/Office 2021/1 Year Warranty/Arctic Grey/1.65Kg), 82H803LPIN',\n",
       " 'MSI GF63 Thin, Intel Core i7-11800H, 40CM FHD 144Hz Gaming Laptop (8GBx2/512GB NVMe SSD/Windows 11 Home/Nvidia GeForce RTX 3050, GDDR6 4GB/Black/1.8Kg), 11UC-1293IN',\n",
       " 'MSI GF63 Thin, Intel Core i7-11800H, 40CM FHD 144Hz Gaming Laptop (16GB/512GB NVMe SSD/Windows 11 Home/Nvidia GeForce GTX 1650, GDDR6 4GB/Black/1.8Kg), 11SC-1462IN',\n",
       " 'ASUS Vivobook 15, Intel Core i7-12650H 12th Gen, 15.6\" (39.62 cm) FHD, Thin and Light Laptop (16GB/512GB/Win11/Office 2021/Blue/1.7 kg), X1502ZA-EJ741WS',\n",
       " 'Acer Aspire Lite Premium Metal Laptop 11th Gen Intel Core Ci7-1165G7 Thin and Light Laptop (Windows 11 Home/16GB RAM/1TB SSD/MS Office) AL15-51, 39.62cm (15.6\") Full HD Display, Steel Gray, 1.59 KG',\n",
       " 'Dell Inspiron 5430 Laptop, Intel Core i7-1360P Processor/ 16GB/ 1TB SSD/14.0\" (35.56cm) FHD+ WVA AG with Comfortview 250 nits/Backlit KB + FPR/Win 11 + MSO\\'21/15 Month McAfee/Platinum Silver/ 1.59kg',\n",
       " 'HP Victus Gaming Laptop, 12th Gen Intel Core i7-12650H, NVIDIA RTX 3050 GPU, 15.6-inch (39.6 cm), 75W TGP , FHD, IPS, 144Hz, 9 ms Response time, 16GB DDR4, 512GB SSD (MSO, Blue, 2.29 kg), fa0188TX',\n",
       " 'ASUS TUF Gaming F15, 15.6-inch (39.62 cms) FHD 144Hz, Intel Core i7-12700H 12th Gen, 4GB NVIDIA GeForce RTX 3050, Gaming Laptop (16GB/1TB SSD/Windows 11/90WHrs Battery/Gray/2.20 Kg), FX577ZC-HN192W',\n",
       " 'Acer Aspire 5 Gaming Laptop Intel Core i7 13th Gen (Windows 11 Home/16 GB/512 GB SSD/4 GB Graphics/NVIDIA GeForce RTX 2050) A514-56GM, 14.0\" WUXGA Display, 1.56 KG',\n",
       " 'Acer Swift X Intel Core i7-11390H Processor 16.1\" (40.89cms) Premium Powerful Laptop- (16 GB/1TB SSD/Win 11 Home/NVIDIA GeForce RTX 3050 Ti 4GB Graphics/Steel Grey, 1.9 KG, MSO), SFX16-51G',\n",
       " 'ASUS Creator Series Vivobook 14X OLED (2023), Intel Core i7-12650H 12th Gen, 14\" (35.56 cm) 2.8K 90Hz OLED, Laptop (16GB/1TB/4GB RTX 2050/Win11/Office 2021/FP/Black/1.4 kg), K3405ZFB-KM751WS',\n",
       " 'Acer Predator Helios Neo 16 Gaming Laptop 13th Gen Intel Core i7 Processor (16 GB/1 TB SSD/Windows 11 Home/NVIDIA ® GeForce RTX \\x84¢ 4060) PHN16-71, (16\") WQXGA Display',\n",
       " 'HP Pavilion 15, 13th Gen Intel Core i7-1360P, 15.6-inch (39.6 cm), FHD, 16GB DDR4, 1TB SSD, Intel Iris Xᵉ Graphics, FPR, Backlit KB, Audio by B&O (Win 11, MSO 2021, Silver, 1.74 kg), eg3036TU',\n",
       " 'MSI Thin GF63, Intel 12th Gen. i7-12650H, 40CM FHD 144Hz Gaming Laptop (8GBx2/512GB NVMe SSD/Windows 11 Home/Nvidia GeForce RTX 4050, GDDR6 6GB/Black/1.86Kg), A12VE-070IN',\n",
       " 'HP Spectre x360 13th Gen Intel Core i7-1355U 13.5 inch(34.3cm)3K2K(3000 x 2000)UWVA OLED 500 nits Gorilla Glass Touch 2-in-1 Laptop(32GB RAM/1TB SSD/5MP(IR)Camera/Backlit KB/FPR/B&O/Pen),14-ef2034TU',\n",
       " 'Lenovo ThinkPad E14 Intel Core i7 12th Gen 14\" FHD IPS Thin and Light Laptop (16GB RAM/512GB SSD/Windows 11 Home/MS Office H&S 2021/Backlit Keyboard/FPR/Black/1.59 kg), 21E3S05B00',\n",
       " 'Samsung Galaxy Book3 Core i7 13th Gen 1355U - (16 GB/512 GB SSD/Windows 11 Home) Galaxy Book3 Thin and Light Laptop  (15.6 Inch, Graphite, 1.58 Kg, with MS Office)',\n",
       " 'Dell Inspiron 5330 Laptop, Intel Evo Platform Powered by Intel Core i7-1360P Processor/16GB LP DDR5/1TB SSD/13.3\" (33.78cm) QHD+ 300 nits/Win 11 + MSO\\'21/15 Month McAfee/Platinum Silver/1.24kg',\n",
       " 'HP Envy x360 for Creators 12th Gen Intel Core i7-1255U, 15.6inch(39.6 cm) FHD OLED 500 Nits Micro-Edge Display (16GB RAM/1TB SSD/B&O/NVIDIA GeForce RTX 2050/Win 11/Fast Charge/Pen/1.7 Kgs/15-ew0022TX)',\n",
       " 'Samsung [SmartChoice] Galaxy Book2 (NP750) Intel 12th Gen core i7 39.6cm (15.6\") FHD T&L Laptop (16 GB/512 GB/Win 11/MSO 21/Backlit Keyboard/Fingerprint Reader/Silver/1.55Kg), NP750XED-KC2IN',\n",
       " 'Acer Predator Helios 16 Gaming Laptop 13th Gen Intel Core i7 (32 GB RAM/1 TB SSD/Windows 11 Home/NVIDIA® GeForce RTX™ 4070) PH16-71, WQXGA Display, Abyssal Black, 2.6 KG']"
      ]
     },
     "execution_count": 197,
     "metadata": {},
     "output_type": "execute_result"
    }
   ],
   "source": [
    "t=driver7.find_elements(By.XPATH,'//span[@class=\"a-size-medium a-color-base a-text-normal\"]')\n",
    "for i in t:\n",
    "    title.append(i.text)\n",
    "\n",
    "                       "
   ]
  },
  {
   "cell_type": "code",
   "execution_count": 204,
   "id": "9442f603",
   "metadata": {},
   "outputs": [],
   "source": [
    "r=driver7.find_elements(By.XPATH,'//span[@class=\"a-declarative\"]')\n",
    "for i in r:\n",
    "    rating.append(i.text)"
   ]
  },
  {
   "cell_type": "code",
   "execution_count": 199,
   "id": "70d9c85a",
   "metadata": {},
   "outputs": [],
   "source": [
    "p=driver7.find_elements(By.XPATH,'//span[@class=\"a-price-whole\"]')\n",
    "for i in p:\n",
    "    price.append(i.text)"
   ]
  },
  {
   "cell_type": "code",
   "execution_count": 201,
   "id": "475bdc9b",
   "metadata": {},
   "outputs": [
    {
     "data": {
      "text/html": [
       "<div>\n",
       "<style scoped>\n",
       "    .dataframe tbody tr th:only-of-type {\n",
       "        vertical-align: middle;\n",
       "    }\n",
       "\n",
       "    .dataframe tbody tr th {\n",
       "        vertical-align: top;\n",
       "    }\n",
       "\n",
       "    .dataframe thead th {\n",
       "        text-align: right;\n",
       "    }\n",
       "</style>\n",
       "<table border=\"1\" class=\"dataframe\">\n",
       "  <thead>\n",
       "    <tr style=\"text-align: right;\">\n",
       "      <th></th>\n",
       "      <th>Title</th>\n",
       "      <th>Ratings</th>\n",
       "      <th>Price</th>\n",
       "    </tr>\n",
       "  </thead>\n",
       "  <tbody>\n",
       "    <tr>\n",
       "      <th>0</th>\n",
       "      <td>ASUS TUF Gaming F15, 15.6\"(39.62 cms) FHD 144H...</td>\n",
       "      <td></td>\n",
       "      <td>68,990</td>\n",
       "    </tr>\n",
       "    <tr>\n",
       "      <th>1</th>\n",
       "      <td>HP Laptop 15s, 12th Gen Intel Core i7-1255U, 1...</td>\n",
       "      <td></td>\n",
       "      <td>63,990</td>\n",
       "    </tr>\n",
       "    <tr>\n",
       "      <th>2</th>\n",
       "      <td>MSI Modern 14, Intel 12th Gen. i7-1255U, 36CM ...</td>\n",
       "      <td></td>\n",
       "      <td>49,990</td>\n",
       "    </tr>\n",
       "    <tr>\n",
       "      <th>3</th>\n",
       "      <td>Lenovo IdeaPad Slim 3 Intel Core i7 11th Gen 1...</td>\n",
       "      <td></td>\n",
       "      <td>52,990</td>\n",
       "    </tr>\n",
       "    <tr>\n",
       "      <th>4</th>\n",
       "      <td>MSI GF63 Thin, Intel Core i7-11800H, 40CM FHD ...</td>\n",
       "      <td></td>\n",
       "      <td>64,990</td>\n",
       "    </tr>\n",
       "    <tr>\n",
       "      <th>5</th>\n",
       "      <td>MSI GF63 Thin, Intel Core i7-11800H, 40CM FHD ...</td>\n",
       "      <td></td>\n",
       "      <td>57,990</td>\n",
       "    </tr>\n",
       "    <tr>\n",
       "      <th>6</th>\n",
       "      <td>ASUS Vivobook 15, Intel Core i7-12650H 12th Ge...</td>\n",
       "      <td></td>\n",
       "      <td>60,990</td>\n",
       "    </tr>\n",
       "    <tr>\n",
       "      <th>7</th>\n",
       "      <td>Acer Aspire Lite Premium Metal Laptop 11th Gen...</td>\n",
       "      <td></td>\n",
       "      <td>47,990</td>\n",
       "    </tr>\n",
       "    <tr>\n",
       "      <th>8</th>\n",
       "      <td>Dell Inspiron 5430 Laptop, Intel Core i7-1360P...</td>\n",
       "      <td></td>\n",
       "      <td>84,990</td>\n",
       "    </tr>\n",
       "    <tr>\n",
       "      <th>9</th>\n",
       "      <td>HP Victus Gaming Laptop, 12th Gen Intel Core i...</td>\n",
       "      <td></td>\n",
       "      <td>84,990</td>\n",
       "    </tr>\n",
       "  </tbody>\n",
       "</table>\n",
       "</div>"
      ],
      "text/plain": [
       "                                               Title Ratings   Price\n",
       "0  ASUS TUF Gaming F15, 15.6\"(39.62 cms) FHD 144H...          68,990\n",
       "1  HP Laptop 15s, 12th Gen Intel Core i7-1255U, 1...          63,990\n",
       "2  MSI Modern 14, Intel 12th Gen. i7-1255U, 36CM ...          49,990\n",
       "3  Lenovo IdeaPad Slim 3 Intel Core i7 11th Gen 1...          52,990\n",
       "4  MSI GF63 Thin, Intel Core i7-11800H, 40CM FHD ...          64,990\n",
       "5  MSI GF63 Thin, Intel Core i7-11800H, 40CM FHD ...          57,990\n",
       "6  ASUS Vivobook 15, Intel Core i7-12650H 12th Ge...          60,990\n",
       "7  Acer Aspire Lite Premium Metal Laptop 11th Gen...          47,990\n",
       "8  Dell Inspiron 5430 Laptop, Intel Core i7-1360P...          84,990\n",
       "9  HP Victus Gaming Laptop, 12th Gen Intel Core i...          84,990"
      ]
     },
     "execution_count": 201,
     "metadata": {},
     "output_type": "execute_result"
    }
   ],
   "source": [
    "df7=pd.DataFrame({'Title':title,'Ratings':rating,'Price':price})\n",
    "df7=df7.head(10)\n",
    "df7"
   ]
  },
  {
   "cell_type": "markdown",
   "id": "3e027753",
   "metadata": {},
   "source": [
    "Question 8"
   ]
  },
  {
   "cell_type": "code",
   "execution_count": 231,
   "id": "2bab0a34",
   "metadata": {},
   "outputs": [],
   "source": [
    "driver8=webdriver.Chrome()"
   ]
  },
  {
   "cell_type": "code",
   "execution_count": 232,
   "id": "e4e4cf5a",
   "metadata": {},
   "outputs": [],
   "source": [
    "driver8.get('https://www.motor1.com/')"
   ]
  },
  {
   "cell_type": "code",
   "execution_count": 234,
   "id": "e3cb7b54",
   "metadata": {},
   "outputs": [],
   "source": [
    "top=driver8.find_element(By.XPATH,'/html/body/div[10]/div[2]/div/div/div[3]/div/div/div/form/input')\n",
    "top.send_keys('50 most expensive car')"
   ]
  },
  {
   "cell_type": "code",
   "execution_count": null,
   "id": "af27a7db",
   "metadata": {},
   "outputs": [],
   "source": []
  }
 ],
 "metadata": {
  "kernelspec": {
   "display_name": "Python 3 (ipykernel)",
   "language": "python",
   "name": "python3"
  },
  "language_info": {
   "codemirror_mode": {
    "name": "ipython",
    "version": 3
   },
   "file_extension": ".py",
   "mimetype": "text/x-python",
   "name": "python",
   "nbconvert_exporter": "python",
   "pygments_lexer": "ipython3",
   "version": "3.10.9"
  }
 },
 "nbformat": 4,
 "nbformat_minor": 5
}
